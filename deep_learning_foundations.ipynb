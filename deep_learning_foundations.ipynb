{
  "nbformat": 4,
  "nbformat_minor": 0,
  "metadata": {
    "colab": {
      "provenance": [],
      "collapsed_sections": [],
      "authorship_tag": "ABX9TyMCQKAQfKBqHRYcpvb8q5T8",
      "include_colab_link": true
    },
    "kernelspec": {
      "name": "python3",
      "display_name": "Python 3"
    },
    "language_info": {
      "name": "python"
    }
  },
  "cells": [
    {
      "cell_type": "markdown",
      "metadata": {
        "id": "view-in-github",
        "colab_type": "text"
      },
      "source": [
        "<a href=\"https://colab.research.google.com/github/martingrzzler/colab-notebooks/blob/master/deep_learning_foundations.ipynb\" target=\"_parent\"><img src=\"https://colab.research.google.com/assets/colab-badge.svg\" alt=\"Open In Colab\"/></a>"
      ]
    },
    {
      "cell_type": "code",
      "execution_count": 1,
      "metadata": {
        "id": "_uq0xc6-6vNC"
      },
      "outputs": [],
      "source": [
        "import numpy as np\n",
        "import pandas as pd\n",
        "import matplotlib.pyplot as plt"
      ]
    },
    {
      "cell_type": "code",
      "source": [
        "data = pd.read_csv('sample_data/mnist_train_small.csv')\n",
        "test_data = pd.read_csv('sample_data/mnist_test.csv')"
      ],
      "metadata": {
        "id": "IojvRPnKyPw_"
      },
      "execution_count": 2,
      "outputs": []
    },
    {
      "cell_type": "code",
      "source": [
        "data_np = data.to_numpy()\n",
        "test_data_np = test_data.to_numpy()\n",
        "data_np.shape, test_data_np.shape"
      ],
      "metadata": {
        "colab": {
          "base_uri": "https://localhost:8080/"
        },
        "id": "p_OuywnNzUYT",
        "outputId": "aecceabb-a730-4345-b17e-cb29d8abd4da"
      },
      "execution_count": 3,
      "outputs": [
        {
          "output_type": "execute_result",
          "data": {
            "text/plain": [
              "((19999, 785), (9999, 785))"
            ]
          },
          "metadata": {},
          "execution_count": 3
        }
      ]
    },
    {
      "cell_type": "code",
      "source": [
        "Y = data_np[:,0]\n",
        "X = data_np[:,1:]\n",
        "Y_test = test_data_np[:,0]\n",
        "X_test = test_data_np[:,1:]\n",
        "N = X.shape[0]"
      ],
      "metadata": {
        "id": "Ekp4gQY80eNe"
      },
      "execution_count": 4,
      "outputs": []
    },
    {
      "cell_type": "code",
      "source": [
        "dims = np.sqrt(X[0].shape[0]).astype(int)"
      ],
      "metadata": {
        "id": "z7rOgZ4g1YEX"
      },
      "execution_count": 5,
      "outputs": []
    },
    {
      "cell_type": "code",
      "source": [
        "fig, axs = plt.subplots(2,5,figsize=(20,7))\n",
        "for ax in axs.flat:\n",
        "  index = np.random.randint(0, N)\n",
        "  img = X[index].reshape((dims,dims))\n",
        "  ax.set_title(f\"pred = {Y[index]}\")\n",
        "  ax.imshow(img, cmap='gray', vmin=0, vmax=255)\n"
      ],
      "metadata": {
        "colab": {
          "base_uri": "https://localhost:8080/",
          "height": 444
        },
        "id": "M3SLk3eL31hL",
        "outputId": "fb302bf4-d204-4d29-c26a-3ea50407417d"
      },
      "execution_count": 6,
      "outputs": [
        {
          "output_type": "display_data",
          "data": {
            "text/plain": [
              "<Figure size 1440x504 with 10 Axes>"
            ],
            "image/png": "[encoded data removed]"
          },
          "metadata": {
            "needs_background": "light"
          }
        }
      ]
    },
    {
      "cell_type": "code",
      "source": [
        "plt.hist(Y, bins=10)\n",
        "# evenly distributed"
      ],
      "metadata": {
        "colab": {
          "base_uri": "https://localhost:8080/",
          "height": 338
        },
        "id": "-LHA6fvDKTbj",
        "outputId": "9893db69-cdcf-437d-a1d7-ee883d879b10"
      },
      "execution_count": 7,
      "outputs": [
        {
          "output_type": "execute_result",
          "data": {
            "text/plain": [
              "(array([1962., 2243., 1989., 2021., 1924., 1761., 2038., 2126., 1912.,\n",
              "        2023.]),\n",
              " array([0. , 0.9, 1.8, 2.7, 3.6, 4.5, 5.4, 6.3, 7.2, 8.1, 9. ]),\n",
              " <a list of 10 Patch objects>)"
            ]
          },
          "metadata": {},
          "execution_count": 7
        },
        {
          "output_type": "display_data",
          "data": {
            "text/plain": [
              "<Figure size 432x288 with 1 Axes>"
            ],
            "image/png": "[encoded data removed]"
          },
          "metadata": {
            "needs_background": "light"
          }
        }
      ]
    },
    {
      "cell_type": "code",
      "source": [
        "X_norm = X / np.max(X)\n",
        "X_test_norm = X_test / np.max(X_test)"
      ],
      "metadata": {
        "id": "YeWHhFH157G2"
      },
      "execution_count": 8,
      "outputs": []
    },
    {
      "cell_type": "markdown",
      "source": [
        "Now that I have labels and training data let's build the Neural Network.\n",
        "\n",
        "### Cost function and Gradient Descent\n",
        "\n",
        "This is a categorical problem so I will use the `Cross Entropy Function`. Why choosing any particular cost function? Minimizing the cost is the same as finding a solution to a maximum likelihood problem. The likelihood tells us how likely it is that the data can be modeled by a particular distribution with certain parameters. Depending on what parameters one uses this liklihood will be bigger or smaller. In practice the likelyhood is the product over all datapoint's PDF function: $\\prod_{i=1}^{N} PDF(x_i; w)$. In the case of a categorical distribution it is $\\prod_{n=1}^{N}\\prod_{k=1}^K p_k^{[t_n=k]}$. This is often transformed to the log likelihood which makes taking the derivative easier and numbers more stable as a product of probabilities becomes very small very fast.\n",
        "\n",
        "$\\sum_{n=1}^{N}\\sum_{k=1}^K [t_n=k] \\log(p_k)$\n",
        "\n",
        "Now imagine the $p_k$ to be the probability the model predicts. If it predicts one for the correct target it outputs zero. If it predicts 0.5 for the correct target the win will be $1 \\log(0.5) = -0.693$. So as the prediciton goes more wrong the win drops as well. Notice in order to turn this into a loss function rather than \"win\" function, simply add a negative sign. In that case 0.6 will mean a higher loss than 0. Without the negative sigm one must go uphill when doing gradient descent.\n",
        "\n",
        "### Architecure\n",
        "\n",
        "<img width=\"300\" src=\"https://raw.githubusercontent.com/martingrzzler/colab-notebooks/master/images/basic-nn.png\" />\n",
        "\n",
        "#### Definitions\n",
        "$D=784$ - number of input features\n",
        "\n",
        "$M=16$ - number of hidden layer nodes\n",
        "\n",
        "$K=10$ - number of output nodes\n",
        "\n",
        "Forward pass:\n",
        "\n",
        "$α=W^Tx+b$\n",
        "\n",
        "$z=σ(α)$\n",
        "\n",
        "$a=V^Tz+c$\n",
        "\n",
        "$y=softmax(a)$\n",
        "\n",
        "$J=\\sum_{n=1}^N\\sum_{k=1}^Kt_{nk}log(y_{nk})$ - the loss function\n",
        "#### Derivatives\n",
        "_Softmax_:\n",
        "\n",
        "\n",
        "$\\frac{δJ}{δa_{nk}}=∑^N_{n=1}∑_{k'=1}^K\\frac{δJ}{δy_{nk'}}\\frac{δy_{nk'}}{δa_{nk}}$\n",
        "\n",
        "$\\frac{δJ}{δa_{nk}}=y_{nk'}(𝛅-y_{nk})$\n",
        "\n",
        "$𝜹=\\binom{k'=k→1}{k'!=k→0}$\n",
        "\n",
        "<img width=\"500\" src=\"https://raw.githubusercontent.com/martingrzzler/colab-notebooks/master/images/softmax_derivative.jpg\" />\n",
        "\n",
        "_Cross Entropy Loss_:\n",
        "\n",
        "$\\frac{δJ}{δy_{nk'}}=\\frac{t_{nk'}}{y_{nk'}}$\n",
        "\n",
        "Bringing them together:\n",
        "\n",
        "$\\sum_{n=1}^N\\sum_{k'=1}^Kt_{nk'}(𝛅_{kk'}-y_nk)$\n",
        "\n",
        "split the sum\n",
        "\n",
        "1. $\\sum_{k'=1}^Kt_{k'}𝛅_{kk'}=t_k$ because $t_k*1 + 0 = t_k$\n",
        "\n",
        "\n",
        "2. $\\sum_{k'=1}^Kt_{k'}y_{k}=y_k\\sum_{k'=1}^Kt_k'=y_k*1=y_k$\n",
        "\n",
        "\n",
        "$\\sum_{n=1}^N(t_{nk}-y_{nk})$\n",
        "\n",
        "$𝚫J=X^T(T-Y)$\n",
        "\n",
        "\n",
        "_Sigmoid_:\n",
        "\n",
        "<img width=\"250\" src=\"https://raw.githubusercontent.com/martingrzzler/colab-notebooks/master/images/sigmoid_derivative.jpg\" />\n",
        "\n",
        "so the derivatives for $c,V,b,W$:\n",
        "\n",
        "$δJ/δV_{nk}=\\sum_{n=1}^N(t_{nk}-y_{nk})z_{nm}$\n",
        "\n",
        "$δJ/δc_{nk}=\\sum_{n=1}^N(t_{nk}-y_{nk})$\n",
        "\n",
        "$δJ/δW_{dm}=\\sum_{n=1}^N\\sum_{k=1}^K(t_{nk}-y_{nk})V_{mk}z_{nm}(1-z_{nm})x_{nd}$\n",
        "\n",
        "$δJ/δb_{dm}=\\sum_{n=1}^N\\sum_{k=1}^K(t_{nk}-y_{nk})V_{mk}z_{nm}(1-z_{nm})$\n",
        "\n",
        "\n",
        "\n",
        "\n"
      ],
      "metadata": {
        "id": "Axk6Dw-t-e-7"
      }
    },
    {
      "cell_type": "code",
      "source": [
        "def get_win(T, Y):\n",
        "  tot = T * np.log(Y)\n",
        "  return tot.sum()\n",
        "\n",
        "def forward(X, W, b, V, c):\n",
        "  Z = 1 / (1 + np.exp(-X.dot(W) - b))\n",
        "  A = Z.dot(V) + c\n",
        "  expA = np.exp(A)\n",
        "  Y = expA / expA.sum(axis=1, keepdims=True)\n",
        "  return Y, Z\n",
        "\n",
        "def derivative_V(Z, T, Y):\n",
        "  return Z.T.dot(T - Y)\n",
        "\n",
        "def derivative_c(T, Y):\n",
        "  return (T - Y).sum(axis=0)\n",
        "\n",
        "def derivative_W(X, Z, T, Y, V):\n",
        "    dZ = (T - Y).dot(V.T) * Z * (1 - Z)\n",
        "    return X.T.dot(dZ)\n",
        "\n",
        "def derivative_b(T, Y, V, Z):\n",
        "    return ((T - Y).dot(V.T) * Z * (1 - Z)).sum(axis=0)\n",
        "\n",
        "def accuracy(Y, P):\n",
        "  return np.mean(Y==P)\n",
        "\n",
        "\n",
        "def to_indicator(Y, K):\n",
        "  T = np.zeros((len(Y),K))\n",
        "  for n in range(len(Y)):\n",
        "    T[n,Y[n]] = 1\n",
        "  return T\n",
        "\n",
        "def unison_shuffle(A, B, C):\n",
        "  assert(len(A) == len(B) == len(C))\n",
        "  p = np.random.permutation(len(A))\n",
        "  return A[p], B[p], C[p]\n"
      ],
      "metadata": {
        "id": "puvPOBuxgXf1"
      },
      "execution_count": 80,
      "outputs": []
    },
    {
      "cell_type": "code",
      "source": [
        "D = X[0].shape[0]\n",
        "M = 16\n",
        "K = 10\n",
        "T = to_indicator(Y, K)\n",
        "\n",
        "# initialize weights\n",
        "W = np.random.randn(D, M)\n",
        "b = np.zeros(M)\n",
        "V = np.random.randn(M, K)\n",
        "c = np.zeros(K)\n",
        "\n",
        "learning_rate = 0.001\n",
        "costs = []\n",
        "\n",
        "for epoch in range(500):\n",
        "  output, hidden = forward(X_norm, W, b, V, c)\n",
        "\n",
        "  if epoch % 20 == 0:\n",
        "    win = get_win(T, output)\n",
        "    P = np.argmax(output, axis=1)\n",
        "    print(\"epoch:\", epoch, \"win:\", win, \"accuracy:\", accuracy(Y,P))\n",
        "    costs.append(win)\n",
        "\n",
        "  gV = derivative_V(hidden,T, output)  \n",
        "  gc = derivative_c(T,output)  \n",
        "  gW = derivative_W(X_norm,hidden,T,output,V) \n",
        "  gb = derivative_b(T, output, V, hidden)  \n",
        "\n",
        "  V += learning_rate * gV\n",
        "  c += learning_rate * gc\n",
        "  W += learning_rate * gW\n",
        "  b += learning_rate * gb\n",
        "\n",
        "# test accuracy\n",
        "P_test_proba, _ = forward(X_test_norm, W, b, V, c)\n",
        "P_test = np.argmax(P_test_proba, axis=1)\n",
        "print(\"test accuracy:\", accuracy(Y_test, P_test))\n",
        "\n",
        "plt.plot(costs)\n",
        "plt.show()"
      ],
      "metadata": {
        "colab": {
          "base_uri": "https://localhost:8080/",
          "height": 740
        },
        "id": "T9R11O0qdK2F",
        "outputId": "405b7805-3afd-4aca-9f6a-b6122bcf05d8"
      },
      "execution_count": 81,
      "outputs": [
        {
          "output_type": "stream",
          "name": "stdout",
          "text": [
            "epoch: 0 win: -128905.60412822795 accuracy: 0.09550477523876194\n",
            "epoch: 20 win: -131693.5275369457 accuracy: 0.11795589779488974\n",
            "epoch: 40 win: -106092.22682235017 accuracy: 0.26981349067453375\n",
            "epoch: 60 win: -92264.09275365435 accuracy: 0.27951397569878494\n",
            "epoch: 80 win: -76591.28696661393 accuracy: 0.35651782589129455\n",
            "epoch: 100 win: -67227.40421729536 accuracy: 0.36006800340017003\n",
            "epoch: 120 win: -68183.247874984 accuracy: 0.39616980849042455\n",
            "epoch: 140 win: -39875.560152584076 accuracy: 0.5469273463673183\n",
            "epoch: 160 win: -36879.84761806394 accuracy: 0.5558277913895695\n",
            "epoch: 180 win: -45755.7006365704 accuracy: 0.5582779138956948\n",
            "epoch: 200 win: -30918.03761299665 accuracy: 0.5406770338516926\n",
            "epoch: 220 win: -45929.57634583561 accuracy: 0.6445822291114556\n",
            "epoch: 240 win: -33456.73337217062 accuracy: 0.6534326716335817\n",
            "epoch: 260 win: -36581.38145972089 accuracy: 0.5694284714235712\n",
            "epoch: 280 win: -31440.87873280584 accuracy: 0.5988299414970748\n",
            "epoch: 300 win: -24970.64736964936 accuracy: 0.6564828241412071\n",
            "epoch: 320 win: -25663.333280295756 accuracy: 0.6716335816790839\n",
            "epoch: 340 win: -30950.00202096701 accuracy: 0.711385569278464\n",
            "epoch: 360 win: -19631.145996685806 accuracy: 0.7260363018150907\n",
            "epoch: 380 win: -21086.792313047714 accuracy: 0.7307365368268414\n",
            "epoch: 400 win: -26519.615597579308 accuracy: 0.7425371268563428\n",
            "epoch: 420 win: -29244.88419758499 accuracy: 0.7358367918395919\n",
            "epoch: 440 win: -18702.02443613161 accuracy: 0.7733386669333466\n",
            "epoch: 460 win: -22403.76178624117 accuracy: 0.7249362468123406\n",
            "epoch: 480 win: -15420.593843467403 accuracy: 0.8210410520526026\n",
            "test accuracy: 0.8006800680068007\n"
          ]
        },
        {
          "output_type": "display_data",
          "data": {
            "text/plain": [
              "<Figure size 432x288 with 1 Axes>"
            ],
            "image/png": "[encoded data removed]"
          },
          "metadata": {
            "needs_background": "light"
          }
        }
      ]
    },
    {
      "cell_type": "markdown",
      "source": [
        "### Generalizing to arbitrary layer size\n",
        "\n",
        "<div>\n",
        "  <img width=\"400\" src=\"https://raw.githubusercontent.com/martingrzzler/colab-notebooks/master/images/two-hidden-layer.png\" />\n",
        "  <img width=\"400\" src=\"https://raw.githubusercontent.com/martingrzzler/colab-notebooks/master/images/three-layer-functions.png\" />\n",
        "</div>\n",
        "\n",
        "<img width=\"700\" src=\"https://raw.githubusercontent.com/martingrzzler/colab-notebooks/master/images/first-layer-derivative.png\" />\n",
        "\n",
        "Consider one weight $W_{dm^{(1)}}^{(1)}$, so connecting the input layer to the first hidden layer. This directly only influences the current $a_{nm^{(1)}}^{(1)}$. In turn this only influences the activation $z_{nm^{(1)}}^{(1)}$. Now however all $a_{nm^{(2)}}^{(2)}$ are directly influenced. Realize that a tiny change in the first layer influences everything that comes after.\n",
        "\n",
        "_The derivatives_\n",
        "\n",
        "<img width=\"700\" src=\"https://raw.githubusercontent.com/martingrzzler/colab-notebooks/master/images/three-derivatives.png\" />\n",
        "\n",
        "_The following pattern emerges_:\n",
        "\n",
        "$𝜟_{W^{(l)}}J=Z^{(l-1)T}𝛅^{(l)}$\n",
        "\n",
        "For any weight matrix $W^{(l)}$ it't gradient is the input into the current layer times some $𝛅$.\n",
        "\n",
        "_Equations to implement_:\n",
        "\n",
        "<img width=\"500\" src=\"https://raw.githubusercontent.com/martingrzzler/colab-notebooks/master/images/grad-update.png\" />\n",
        "\n",
        "<img width=\"500\" src=\"https://raw.githubusercontent.com/martingrzzler/colab-notebooks/master/images/delta-update.png\" />"
      ],
      "metadata": {
        "id": "ZhZTPcBwhQBt"
      }
    },
    {
      "cell_type": "code",
      "source": [
        "def sigmoid(A):\n",
        "  return 1.0 / (1.0 + np.exp(-A))\n",
        "\n",
        "def softmax(A):\n",
        "  expA = np.exp(A)\n",
        "  return expA / np.sum(expA, axis=1, keepdims=True)\n",
        "\n",
        "def derivative_sigmoid(X):\n",
        "  sig = sigmoid(X)\n",
        "  return (1.0 - sig) * sig\n",
        "\n",
        "def get_cost(T, Y):\n",
        "  tot = T * np.log(Y)\n",
        "  return -tot.mean()\n",
        "\n",
        "def forward_hidden(X, W, b):\n",
        "    return sigmoid(X.dot(W) + b)\n",
        "  \n",
        "def forward_output(X, W, b):\n",
        "    return softmax(X.dot(W) + b)\n"
      ],
      "metadata": {
        "id": "yUNtXOroBPWr"
      },
      "execution_count": 121,
      "outputs": []
    },
    {
      "cell_type": "code",
      "source": [
        "D = X[0].shape[0]\n",
        "M = 16\n",
        "K = 10\n",
        "\n",
        "num_layers = 3\n",
        "L = num_layers - 1\n",
        "\n",
        "# initialize weights\n",
        "\n",
        "W = [np.random.randn(M,M) for i in range(L - 2)]\n",
        "W.insert(0,np.random.randn(D,M))\n",
        "W.append(np.random.randn(M,K))\n",
        "\n",
        "b = [np.zeros((M)) for i in range(L - 1)]\n",
        "b.append(np.zeros(K))\n",
        "\n",
        "T = to_indicator(Y, K)\n",
        "\n",
        "learning_rate = 0.0001\n",
        "costs = []\n",
        "\n",
        "Z = [0 for i in range(L)]\n",
        " \n",
        "# Note - for a 4 layer network we have 3 W's, 3 b's and 3 Z's\n",
        "\n",
        "for epoch in range(300):\n",
        "  # forward pass\n",
        "  Z[0] = forward_hidden(X_norm, W[0], b[0])\n",
        "  for i in range(1, L - 1):\n",
        "    Z[i] = forward_hidden(Z[i - 1], W[i], b[i])\n",
        "  Z[-1] = forward_output(Z[-2], W[-1], b[-1])\n",
        "  output = Z[-1]\n",
        "\n",
        "  if epoch % 10 == 0:\n",
        "    cost = get_cost(T, output)\n",
        "    P = np.argmax(output, axis=1)\n",
        "    print(\"epoch:\", epoch, \"cost:\", cost, \"accuracy:\", accuracy(Y,P))\n",
        "    costs.append(cost)\n",
        "\n",
        "  # when doing gradient descent it's output - T\n",
        "  delta = output - T\n",
        "  gradW = Z[-2].T.dot(delta)\n",
        "  gradb = np.sum(delta, axis=0)\n",
        "\n",
        "\n",
        "  W[-1] -= learning_rate * gradW\n",
        "  b[-1] -= learning_rate * gradb\n",
        "\n",
        "  for j in reversed(range(1, L - 1)):\n",
        "    delta = delta.dot(W[j+1].T) * derivative_sigmoid(Z[j])\n",
        "    gradW = Z[j-1].T.dot(delta)\n",
        "    gradb = np.sum(delta, axis=0)\n",
        "    W[j] -= learning_rate * gradW\n",
        "    b[j] -= learning_rate * gradb\n",
        "  \n",
        "  delta = delta.dot(W[1].T) * derivative_sigmoid(Z[0])\n",
        "  gradW = X_norm.T.dot(delta)\n",
        "  gradb = np.sum(delta, axis=0)\n",
        "  W[0] -= learning_rate * gradW\n",
        "  b[0] -= learning_rate * gradb\n",
        "\n",
        "plt.plot(costs)\n",
        "plt.show()"
      ],
      "metadata": {
        "colab": {
          "base_uri": "https://localhost:8080/",
          "height": 646
        },
        "id": "2HZzW2cI_7Hk",
        "outputId": "35e74461-0de3-46ab-c467-c608e1219dec"
      },
      "execution_count": 100,
      "outputs": [
        {
          "output_type": "stream",
          "name": "stdout",
          "text": [
            "epoch: 0 cost: 0.4802171839604451 accuracy: 0.06860343017150858\n",
            "epoch: 10 cost: 0.1481189454162741 accuracy: 0.5103255162758138\n",
            "epoch: 20 cost: 0.10714751565795669 accuracy: 0.6483324166208311\n",
            "epoch: 30 cost: 0.09240343728384726 accuracy: 0.7070853542677134\n",
            "epoch: 40 cost: 0.08433246297188988 accuracy: 0.7314365718285915\n",
            "epoch: 50 cost: 0.07944562086725518 accuracy: 0.7489874493724686\n",
            "epoch: 60 cost: 0.07619287287769057 accuracy: 0.760738036901845\n",
            "epoch: 70 cost: 0.07377691414389355 accuracy: 0.767988399419971\n",
            "epoch: 80 cost: 0.07177356075071611 accuracy: 0.7747887394369718\n",
            "epoch: 90 cost: 0.07002745116831403 accuracy: 0.7795889794489724\n",
            "epoch: 100 cost: 0.06858796270968776 accuracy: 0.7838891944597229\n",
            "epoch: 110 cost: 0.06732765112519591 accuracy: 0.7896394819740987\n",
            "epoch: 120 cost: 0.06607251341274756 accuracy: 0.7960898044902245\n",
            "epoch: 130 cost: 0.06496737112537085 accuracy: 0.799989999499975\n",
            "epoch: 140 cost: 0.06407468610885565 accuracy: 0.8041402070103505\n",
            "epoch: 150 cost: 0.06328588420244034 accuracy: 0.8061403070153508\n",
            "epoch: 160 cost: 0.06256557138964927 accuracy: 0.8092904645232262\n",
            "epoch: 170 cost: 0.06197713672647886 accuracy: 0.8113905695284764\n",
            "epoch: 180 cost: 0.0615052161304276 accuracy: 0.8129406470323516\n",
            "epoch: 190 cost: 0.06122289420023607 accuracy: 0.8129906495324766\n",
            "epoch: 200 cost: 0.06109830701031865 accuracy: 0.8130906545327267\n",
            "epoch: 210 cost: 0.06106826337259172 accuracy: 0.8135406770338517\n"
          ]
        },
        {
          "output_type": "error",
          "ename": "KeyboardInterrupt",
          "evalue": "ignored",
          "traceback": [
            "\u001b[0;31m---------------------------------------------------------------------------\u001b[0m",
            "\u001b[0;31mKeyboardInterrupt\u001b[0m                         Traceback (most recent call last)",
            "\u001b[0;32m<ipython-input-100-ddef366543df>\u001b[0m in \u001b[0;36m<module>\u001b[0;34m\u001b[0m\n\u001b[1;32m     55\u001b[0m \u001b[0;34m\u001b[0m\u001b[0m\n\u001b[1;32m     56\u001b[0m   \u001b[0mdelta\u001b[0m \u001b[0;34m=\u001b[0m \u001b[0mdelta\u001b[0m\u001b[0;34m.\u001b[0m\u001b[0mdot\u001b[0m\u001b[0;34m(\u001b[0m\u001b[0mW\u001b[0m\u001b[0;34m[\u001b[0m\u001b[0;36m1\u001b[0m\u001b[0;34m]\u001b[0m\u001b[0;34m.\u001b[0m\u001b[0mT\u001b[0m\u001b[0;34m)\u001b[0m \u001b[0;34m*\u001b[0m \u001b[0mderivative_sigmoid\u001b[0m\u001b[0;34m(\u001b[0m\u001b[0mZ\u001b[0m\u001b[0;34m[\u001b[0m\u001b[0;36m0\u001b[0m\u001b[0;34m]\u001b[0m\u001b[0;34m)\u001b[0m\u001b[0;34m\u001b[0m\u001b[0;34m\u001b[0m\u001b[0m\n\u001b[0;32m---> 57\u001b[0;31m   \u001b[0mgradW\u001b[0m \u001b[0;34m=\u001b[0m \u001b[0mX_norm\u001b[0m\u001b[0;34m.\u001b[0m\u001b[0mT\u001b[0m\u001b[0;34m.\u001b[0m\u001b[0mdot\u001b[0m\u001b[0;34m(\u001b[0m\u001b[0mdelta\u001b[0m\u001b[0;34m)\u001b[0m\u001b[0;34m\u001b[0m\u001b[0;34m\u001b[0m\u001b[0m\n\u001b[0m\u001b[1;32m     58\u001b[0m   \u001b[0mgradb\u001b[0m \u001b[0;34m=\u001b[0m \u001b[0mnp\u001b[0m\u001b[0;34m.\u001b[0m\u001b[0msum\u001b[0m\u001b[0;34m(\u001b[0m\u001b[0mdelta\u001b[0m\u001b[0;34m,\u001b[0m \u001b[0maxis\u001b[0m\u001b[0;34m=\u001b[0m\u001b[0;36m0\u001b[0m\u001b[0;34m)\u001b[0m\u001b[0;34m\u001b[0m\u001b[0;34m\u001b[0m\u001b[0m\n\u001b[1;32m     59\u001b[0m   \u001b[0mW\u001b[0m\u001b[0;34m[\u001b[0m\u001b[0;36m0\u001b[0m\u001b[0;34m]\u001b[0m \u001b[0;34m-=\u001b[0m \u001b[0mlearning_rate\u001b[0m \u001b[0;34m*\u001b[0m \u001b[0mgradW\u001b[0m\u001b[0;34m\u001b[0m\u001b[0;34m\u001b[0m\u001b[0m\n",
            "\u001b[0;31mKeyboardInterrupt\u001b[0m: "
          ]
        }
      ]
    },
    {
      "cell_type": "code",
      "source": [
        "from typing import List\n",
        "\n",
        "class Math:\n",
        "\n",
        "  @staticmethod\n",
        "  def sigmoid(A):\n",
        "    return 1.0 / (1.0 + np.exp(-A))\n",
        "\n",
        "  @staticmethod\n",
        "  def softmax(A):\n",
        "    expA = np.exp(A)\n",
        "    return expA / np.sum(expA, axis=1, keepdims=True)\n",
        "\n",
        "  @staticmethod\n",
        "  def derivative_sigmoid(X):\n",
        "    sig = sigmoid(X)\n",
        "    return (1.0 - sig) * sig\n",
        "\n",
        "  @staticmethod\n",
        "  def accuracy(Y, P):\n",
        "    return np.mean(Y==P)\n",
        "\n",
        " \n",
        "\n",
        "class ANN:\n",
        "  def __init__(self, layers: List[int]):\n",
        "    self.W = [np.random.randn(layers[i],layers[i+1]) for i in range(len(layers) - 1)]\n",
        "    self.b = [np.zeros(layers[i]) for i in range(1,len(layers))]\n",
        "    self.layers = layers\n",
        "    self.costs = []\n",
        "\n",
        "  def fit(self, X, Y, learning_rate=0.0001, epochs=300, verbose=True):\n",
        "    self.lr = learning_rate\n",
        "    T = self.__Y_to_indicator(Y)\n",
        "\n",
        "    for e in range(epochs):\n",
        "      Z = self.__forward(X)\n",
        "\n",
        "      if verbose and e % 10 == 0:\n",
        "        cost = self.__get_cost(T, Z[-1])\n",
        "        self.costs.append(cost)\n",
        "        print(f\"Epoch: {e}, Cost: {cost}, Accuracy: {Math.accuracy(Y, np.argmax(Z[-1], axis=1))}\")\n",
        "      self.__backprop(T, Z, X)\n",
        "    \n",
        "    return self.costs\n",
        "\n",
        "  def predict(self, X):\n",
        "    Z = self.__forward(X)\n",
        "    return np.argmax(Z[-1], axis=1)\n",
        "\n",
        "\n",
        "  def __backprop(self, T, Z, X):\n",
        "    delta = Z[-1] - T\n",
        "    gradW = Z[-2].T.dot(delta)\n",
        "    gradb = np.sum(delta, axis=0)\n",
        "\n",
        "    self.W[-1] -= self.lr * gradW\n",
        "    self.b[-1] -= self.lr * gradb\n",
        "\n",
        "    for j in reversed(range(0, len(self.layers) - 2)):\n",
        "      delta = delta.dot(self.W[j+1].T) * Math.derivative_sigmoid(Z[j])\n",
        "      gradW =  Z[j-1].T.dot(delta) if j > 0 else X.T.dot(delta)\n",
        "      gradb = np.sum(delta, axis=0)\n",
        "      self.W[j] -= self.lr * gradW\n",
        "      self.b[j] -= self.lr * gradb\n",
        "  \n",
        "\n",
        "  def __forward(self, X):\n",
        "    Z = [0 for i in range(len(self.layers)-1)]\n",
        "    Z[0] = Math.sigmoid(X.dot(self.W[0]) + self.b[0])\n",
        "    for i in range(1,len(Z) - 1):\n",
        "      Z[i] = Math.sigmoid(Z[i-1].dot(self.W[i]) + self.b[i])\n",
        "    Z[-1] = Math.softmax(Z[-2].dot(self.W[-1]) + self.b[-1])\n",
        "\n",
        "    return Z\n",
        "\n",
        "  def __Y_to_indicator(self, Y):\n",
        "    K = self.layers[-1]\n",
        "    T = np.zeros((len(Y),K))\n",
        "    for n in range(len(Y)):\n",
        "      T[n,Y[n]] = 1\n",
        "    return T\n",
        "\n",
        "  \n",
        "  def __get_cost(self, T, Y_proba):\n",
        "    tot = T * np.log(Y_proba)\n",
        "    return -tot.mean()\n"
      ],
      "metadata": {
        "id": "Hz_i9U8uC0bi"
      },
      "execution_count": 189,
      "outputs": []
    },
    {
      "cell_type": "code",
      "source": [
        "data = pd.read_csv('sample_data/mnist_train_small.csv')\n",
        "test_data = pd.read_csv('sample_data/mnist_test.csv')\n",
        "data_np = data.to_numpy()\n",
        "test_data_np = test_data.to_numpy()\n",
        "Y = data_np[:,0]\n",
        "X = data_np[:,1:]\n",
        "Y_test = test_data_np[:,0]\n",
        "X_test = test_data_np[:,1:]\n",
        "X_norm = X / np.max(X)\n",
        "X_test_norm = X_test / np.max(X_test)"
      ],
      "metadata": {
        "id": "8T8mv1bSw8Gk"
      },
      "execution_count": 190,
      "outputs": []
    },
    {
      "cell_type": "code",
      "source": [
        "ann = ANN(layers=[X[0].shape[0],20,10])\n",
        "costs = ann.fit(X=X_norm, Y=Y, epochs=250, learning_rate=0.0001)\n",
        "print(f\"Final test Accuracy: {Math.accuracy(Y_test, ann.predict(X_test_norm))}\")\n",
        "plt.plot(costs)"
      ],
      "metadata": {
        "id": "ETLnCE2A2q4p",
        "outputId": "dd5b8105-f544-4631-dd45-ea6b7c2fbdad",
        "colab": {
          "base_uri": "https://localhost:8080/",
          "height": 758
        }
      },
      "execution_count": 198,
      "outputs": [
        {
          "output_type": "stream",
          "name": "stdout",
          "text": [
            "Epoch: 0, Cost: 0.5550934513304293, Accuracy: 0.09430471523576178\n",
            "Epoch: 10, Cost: 0.1783129002964963, Accuracy: 0.3976198809940497\n",
            "Epoch: 20, Cost: 0.15376253983105284, Accuracy: 0.5252762638131907\n",
            "Epoch: 30, Cost: 0.13703077923741835, Accuracy: 0.6029801490074503\n",
            "Epoch: 40, Cost: 0.12118034434315325, Accuracy: 0.6245312265613281\n",
            "Epoch: 50, Cost: 0.11508559620479307, Accuracy: 0.6534826741337066\n",
            "Epoch: 60, Cost: 0.10350661498956736, Accuracy: 0.6579328966448322\n",
            "Epoch: 70, Cost: 0.09888469550877267, Accuracy: 0.6776838841942097\n",
            "Epoch: 80, Cost: 0.09209119852858147, Accuracy: 0.6845842292114606\n",
            "Epoch: 90, Cost: 0.0917225671776338, Accuracy: 0.6926346317315866\n",
            "Epoch: 100, Cost: 0.08643016498644956, Accuracy: 0.7054352717635882\n",
            "Epoch: 110, Cost: 0.08090248068081694, Accuracy: 0.7219360968048403\n",
            "Epoch: 120, Cost: 0.07602985722181033, Accuracy: 0.7451872593629681\n",
            "Epoch: 130, Cost: 0.0722581021388982, Accuracy: 0.7666883344167208\n",
            "Epoch: 140, Cost: 0.0690350764448078, Accuracy: 0.784439221961098\n",
            "Epoch: 150, Cost: 0.06635692283720243, Accuracy: 0.7954397719885994\n",
            "Epoch: 160, Cost: 0.0645483155732695, Accuracy: 0.8034901745087254\n",
            "Epoch: 170, Cost: 0.0638768447878934, Accuracy: 0.8125406270313515\n",
            "Epoch: 180, Cost: 0.06398181039113157, Accuracy: 0.8133906695334767\n",
            "Epoch: 190, Cost: 0.06437771602426436, Accuracy: 0.8123406170308516\n",
            "Epoch: 200, Cost: 0.06495401265372605, Accuracy: 0.8092404620231012\n",
            "Epoch: 210, Cost: 0.065878036660536, Accuracy: 0.8039901995099755\n",
            "Epoch: 220, Cost: 0.0667209665026368, Accuracy: 0.7982399119955997\n",
            "Epoch: 230, Cost: 0.0674612817515221, Accuracy: 0.7931896594829742\n",
            "Epoch: 240, Cost: 0.06793540496091337, Accuracy: 0.7884394219710985\n",
            "Final test Accuracy: 0.7905790579057905\n"
          ]
        },
        {
          "output_type": "execute_result",
          "data": {
            "text/plain": [
              "[<matplotlib.lines.Line2D at 0x7f265bf5a910>]"
            ]
          },
          "metadata": {},
          "execution_count": 198
        },
        {
          "output_type": "display_data",
          "data": {
            "text/plain": [
              "<Figure size 432x288 with 1 Axes>"
            ],
            "image/png": "[encoded data removed]"
          },
          "metadata": {
            "needs_background": "light"
          }
        }
      ]
    }
  ]
}