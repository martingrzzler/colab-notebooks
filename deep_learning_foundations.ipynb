{
  "nbformat": 4,
  "nbformat_minor": 0,
  "metadata": {
    "colab": {
      "provenance": [],
      "collapsed_sections": [],
      "authorship_tag": "ABX9TyNpi4X0yY0gyS9y1sJIJpAT",
      "include_colab_link": true
    },
    "kernelspec": {
      "name": "python3",
      "display_name": "Python 3"
    },
    "language_info": {
      "name": "python"
    }
  },
  "cells": [
    {
      "cell_type": "markdown",
      "metadata": {
        "id": "view-in-github",
        "colab_type": "text"
      },
      "source": [
        "<a href=\"https://colab.research.google.com/github/martingrzzler/colab-notebooks/blob/master/deep_learning_foundations.ipynb\" target=\"_parent\"><img src=\"https://colab.research.google.com/assets/colab-badge.svg\" alt=\"Open In Colab\"/></a>"
      ]
    },
    {
      "cell_type": "code",
      "execution_count": 1,
      "metadata": {
        "id": "_uq0xc6-6vNC"
      },
      "outputs": [],
      "source": [
        "import numpy as np\n",
        "import pandas as pd\n",
        "import matplotlib.pyplot as plt"
      ]
    },
    {
      "cell_type": "code",
      "source": [
        "data = pd.read_csv('sample_data/mnist_train_small.csv')\n",
        "test_data = pd.read_csv('sample_data/mnist_test.csv')"
      ],
      "metadata": {
        "id": "IojvRPnKyPw_"
      },
      "execution_count": 2,
      "outputs": []
    },
    {
      "cell_type": "code",
      "source": [
        "data_np = data.to_numpy()\n",
        "test_data_np = test_data.to_numpy()\n",
        "data_np.shape, test_data_np.shape"
      ],
      "metadata": {
        "colab": {
          "base_uri": "https://localhost:8080/"
        },
        "id": "p_OuywnNzUYT",
        "outputId": "aecceabb-a730-4345-b17e-cb29d8abd4da"
      },
      "execution_count": 3,
      "outputs": [
        {
          "output_type": "execute_result",
          "data": {
            "text/plain": [
              "((19999, 785), (9999, 785))"
            ]
          },
          "metadata": {},
          "execution_count": 3
        }
      ]
    },
    {
      "cell_type": "code",
      "source": [
        "Y = data_np[:,0]\n",
        "X = data_np[:,1:]\n",
        "Y_test = test_data_np[:,0]\n",
        "X_test = test_data_np[:,1:]\n",
        "N = X.shape[0]"
      ],
      "metadata": {
        "id": "Ekp4gQY80eNe"
      },
      "execution_count": 4,
      "outputs": []
    },
    {
      "cell_type": "code",
      "source": [
        "dims = np.sqrt(X[0].shape[0]).astype(int)"
      ],
      "metadata": {
        "id": "z7rOgZ4g1YEX"
      },
      "execution_count": 5,
      "outputs": []
    },
    {
      "cell_type": "code",
      "source": [
        "fig, axs = plt.subplots(2,5,figsize=(20,7))\n",
        "for ax in axs.flat:\n",
        "  index = np.random.randint(0, N)\n",
        "  img = X[index].reshape((dims,dims))\n",
        "  ax.set_title(f\"pred = {Y[index]}\")\n",
        "  ax.imshow(img, cmap='gray', vmin=0, vmax=255)\n"
      ],
      "metadata": {
        "colab": {
          "base_uri": "https://localhost:8080/",
          "height": 444
        },
        "id": "M3SLk3eL31hL",
        "outputId": "fb302bf4-d204-4d29-c26a-3ea50407417d"
      },
      "execution_count": 6,
      "outputs": [
        {
          "output_type": "display_data",
          "data": {
            "text/plain": [
              "<Figure size 1440x504 with 10 Axes>"
            ],
            "image/png": "[encoded data removed]"
          },
          "metadata": {
            "needs_background": "light"
          }
        }
      ]
    },
    {
      "cell_type": "code",
      "source": [
        "plt.hist(Y, bins=10)\n",
        "# evenly distributed"
      ],
      "metadata": {
        "colab": {
          "base_uri": "https://localhost:8080/",
          "height": 338
        },
        "id": "-LHA6fvDKTbj",
        "outputId": "9893db69-cdcf-437d-a1d7-ee883d879b10"
      },
      "execution_count": 7,
      "outputs": [
        {
          "output_type": "execute_result",
          "data": {
            "text/plain": [
              "(array([1962., 2243., 1989., 2021., 1924., 1761., 2038., 2126., 1912.,\n",
              "        2023.]),\n",
              " array([0. , 0.9, 1.8, 2.7, 3.6, 4.5, 5.4, 6.3, 7.2, 8.1, 9. ]),\n",
              " <a list of 10 Patch objects>)"
            ]
          },
          "metadata": {},
          "execution_count": 7
        },
        {
          "output_type": "display_data",
          "data": {
            "text/plain": [
              "<Figure size 432x288 with 1 Axes>"
            ],
            "image/png": "[encoded data removed]"
          },
          "metadata": {
            "needs_background": "light"
          }
        }
      ]
    },
    {
      "cell_type": "code",
      "source": [
        "X_norm = X / np.max(X)\n",
        "X_test_norm = X_test / np.max(X_test)"
      ],
      "metadata": {
        "id": "YeWHhFH157G2"
      },
      "execution_count": 8,
      "outputs": []
    },
    {
      "cell_type": "markdown",
      "source": [
        "Now that I have labels and training data let's build the Neural Network.\n",
        "\n",
        "### Cost function and Gradient Descent\n",
        "\n",
        "This is a categorical problem so I will use the `Cross Entropy Function`. Why choosing any particular cost function? Minimizing the cost is the same as finding a solution to a maximum likelihood problem. The likelihood tells us how likely it is that the data can be modeled by a particular distribution with certain parameters. Depending on what parameters one uses this liklihood will be bigger or smaller. In practice the likelyhood is the product over all datapoint's PDF function: $\\prod_{i=1}^{N} PDF(x_i; w)$. In the case of a categorical distribution it is $\\prod_{n=1}^{N}\\prod_{k=1}^K p_k^{[t_n=k]}$. This is often transformed to the log likelihood which makes taking the derivative easier and numbers more stable as a product of probabilities becomes very small very fast.\n",
        "\n",
        "$\\sum_{n=1}^{N}\\sum_{k=1}^K [t_n=k] \\log(p_k)$\n",
        "\n",
        "Now imagine the $p_k$ to be the probability the model predicts. If it predicts one for the correct target it outputs zero. If it predicts 0.5 for the correct target the win will be $1 \\log(0.5) = -0.693$. So as the prediciton goes more wrong the win drops as well. Notice in order to turn this into a loss function rather than \"win\" function, simply add a negative sign. In that case 0.6 will mean a higher loss than 0. Without the negative sigm one must go uphill when doing gradient descent.\n",
        "\n",
        "### Architecure\n",
        "\n",
        "<img width=\"300\" src=\"https://raw.githubusercontent.com/martingrzzler/colab-notebooks/master/images/basic-nn.png\" />\n",
        "\n",
        "#### Definitions\n",
        "$D=784$ - number of input features\n",
        "\n",
        "$M=16$ - number of hidden layer nodes\n",
        "\n",
        "$K=10$ - number of output nodes\n",
        "\n",
        "Forward pass:\n",
        "\n",
        "$α=W^Tx+b$\n",
        "\n",
        "$z=σ(α)$\n",
        "\n",
        "$a=V^Tz+c$\n",
        "\n",
        "$y=softmax(a)$\n",
        "\n",
        "$J=\\sum_{n=1}^N\\sum_{k=1}^Kt_{nk}log(y_{nk})$ - the loss function\n",
        "#### Derivatives\n",
        "_Softmax_:\n",
        "\n",
        "\n",
        "$\\frac{δJ}{δa_{nk}}=∑^N_{n=1}∑_{k'=1}^K\\frac{δJ}{δy_{nk'}}\\frac{δy_{nk'}}{δa_{nk}}$\n",
        "\n",
        "$\\frac{δJ}{δa_{nk}}=y_{nk'}(𝛅-y_{nk})$\n",
        "\n",
        "$𝜹=\\binom{k'=k→1}{k'!=k→0}$\n",
        "\n",
        "<img width=\"500\" src=\"https://raw.githubusercontent.com/martingrzzler/colab-notebooks/master/images/softmax_derivative.jpg\" />\n",
        "\n",
        "_Cross Entropy Loss_:\n",
        "\n",
        "$\\frac{δJ}{δy_{nk'}}=\\frac{t_{nk'}}{y_{nk'}}$\n",
        "\n",
        "Bringing them together:\n",
        "\n",
        "$\\sum_{n=1}^N\\sum_{k'=1}^Kt_{nk'}(𝛅_{kk'}-y_nk)$\n",
        "\n",
        "split the sum\n",
        "\n",
        "1. $\\sum_{k'=1}^Kt_{k'}𝛅_{kk'}=t_k$ because $t_k*1 + 0 = t_k$\n",
        "\n",
        "\n",
        "2. $\\sum_{k'=1}^Kt_{k'}y_{k}=y_k\\sum_{k'=1}^Kt_k'=y_k*1=y_k$\n",
        "\n",
        "\n",
        "$\\sum_{n=1}^N(t_{nk}-y_{nk})$\n",
        "\n",
        "$𝚫J=X^T(T-Y)$\n",
        "\n",
        "\n",
        "_Sigmoid_:\n",
        "\n",
        "<img width=\"250\" src=\"https://raw.githubusercontent.com/martingrzzler/colab-notebooks/master/images/sigmoid_derivative.jpg\" />\n",
        "\n",
        "so the derivatives for $c,V,b,W$:\n",
        "\n",
        "$δJ/δV_{nk}=\\sum_{n=1}^N(t_{nk}-y_{nk})z_{nm}$\n",
        "\n",
        "$δJ/δc_{nk}=\\sum_{n=1}^N(t_{nk}-y_{nk})$\n",
        "\n",
        "$δJ/δW_{dm}=\\sum_{n=1}^N\\sum_{k=1}^K(t_{nk}-y_{nk})V_{mk}z_{nm}(1-z_{nm})x_{nd}$\n",
        "\n",
        "$δJ/δb_{dm}=\\sum_{n=1}^N\\sum_{k=1}^K(t_{nk}-y_{nk})V_{mk}z_{nm}(1-z_{nm})$\n",
        "\n",
        "\n",
        "\n",
        "\n"
      ],
      "metadata": {
        "id": "Axk6Dw-t-e-7"
      }
    },
    {
      "cell_type": "code",
      "source": [
        "def cost(T, Y):\n",
        "  tot = T * np.log(Y)\n",
        "  return tot.sum()\n",
        "\n",
        "def forward(X, W, b, V, c):\n",
        "  Z = 1 / (1 + np.exp(-X.dot(W) - b))\n",
        "  A = Z.dot(V) + c\n",
        "  expA = np.exp(A)\n",
        "  Y = expA / expA.sum(axis=1, keepdims=True)\n",
        "  return Y, Z\n",
        "\n",
        "def derivative_V(Z, T, Y):\n",
        "  return Z.T.dot(T - Y)\n",
        "\n",
        "def derivative_c(T, Y):\n",
        "  return (T - Y).sum(axis=0)\n",
        "\n",
        "def derivative_W(X, Z, T, Y, V):\n",
        "    dZ = (T - Y).dot(V.T) * Z * (1 - Z)\n",
        "    return X.T.dot(dZ)\n",
        "\n",
        "def derivative_b(T, Y, V, Z):\n",
        "    return ((T - Y).dot(V.T) * Z * (1 - Z)).sum(axis=0)\n",
        "\n",
        "def accuracy(Y, P):\n",
        "  return np.mean(Y==P)\n",
        "\n",
        "\n",
        "def to_indicator(Y, K):\n",
        "  T = np.zeros((len(Y),K))\n",
        "  for n in range(len(Y)):\n",
        "    T[n,Y[n]] = 1\n",
        "  return T\n",
        "\n",
        "def unison_shuffle(A, B, C):\n",
        "  assert(len(A) == len(B) == len(C))\n",
        "  p = np.random.permutation(len(A))\n",
        "  return A[p], B[p], C[p]\n"
      ],
      "metadata": {
        "id": "puvPOBuxgXf1"
      },
      "execution_count": 37,
      "outputs": []
    },
    {
      "cell_type": "code",
      "source": [
        "D = X[0].shape[0]\n",
        "M = 16\n",
        "K = 10\n",
        "T = to_indicator(Y, K)\n",
        "\n",
        "# initialize weights\n",
        "W = np.random.randn(D, M)\n",
        "b = np.zeros(M)\n",
        "V = np.random.randn(M, K)\n",
        "c = np.zeros(K)\n",
        "\n",
        "learning_rate = 0.001\n",
        "costs = []\n",
        "batch_size = 256\n",
        "\n",
        "for epoch in range(500):\n",
        "  output, hidden = forward(X_norm, W, b, V, c)\n",
        "\n",
        "  if epoch % 20 == 0:\n",
        "    win = cost(T, output)\n",
        "    P = np.argmax(output, axis=1)\n",
        "    print(\"epoch:\", epoch, \"win:\", win, \"accuracy:\", accuracy(Y,P))\n",
        "    costs.append(win)\n",
        "\n",
        "  gV = derivative_V(hidden,T, output)  \n",
        "  gc = derivative_c(T,output)  \n",
        "  gW = derivative_W(X_norm,hidden,T,output,V) \n",
        "  gb = derivative_b(T, output, V, hidden)  \n",
        "\n",
        "  V += learning_rate * gV\n",
        "  c += learning_rate * gc\n",
        "  W += learning_rate * gW\n",
        "  b += learning_rate * gb\n",
        "\n",
        "# test accuracy\n",
        "P_test_proba, _ = forward(X_test_norm, W, b, V, c)\n",
        "P_test = np.argmax(P_test_proba, axis=1)\n",
        "print(\"test accuracy:\", accuracy(Y_test, P_test))\n",
        "\n",
        "plt.plot(costs)\n",
        "plt.show()"
      ],
      "metadata": {
        "colab": {
          "base_uri": "https://localhost:8080/",
          "height": 740
        },
        "id": "T9R11O0qdK2F",
        "outputId": "6b91d16a-e585-42d8-d648-d4a769f0ba47"
      },
      "execution_count": 10,
      "outputs": [
        {
          "output_type": "stream",
          "name": "stdout",
          "text": [
            "epoch: 0 win: -132639.10989774988 accuracy: 0.08620431021551078\n",
            "epoch: 20 win: -41451.89263879917 accuracy: 0.20611030551527576\n",
            "epoch: 40 win: -39060.14246330662 accuracy: 0.23356167808390418\n",
            "epoch: 60 win: -39320.283844582555 accuracy: 0.3872193609680484\n",
            "epoch: 80 win: -26351.16331265908 accuracy: 0.43412170608530426\n",
            "epoch: 100 win: -26600.950026032897 accuracy: 0.5138256912845642\n",
            "epoch: 120 win: -21176.796299691192 accuracy: 0.6083304165208261\n",
            "epoch: 140 win: -20206.101214723316 accuracy: 0.6500325016250813\n",
            "epoch: 160 win: -16351.244705183675 accuracy: 0.7219860993049653\n",
            "epoch: 180 win: -15169.07311884723 accuracy: 0.7312365618280914\n",
            "epoch: 200 win: -13099.390027723945 accuracy: 0.7924896244812241\n",
            "epoch: 220 win: -10984.754235949218 accuracy: 0.8137406870343518\n",
            "epoch: 240 win: -11591.339364678359 accuracy: 0.8110405520276014\n",
            "epoch: 260 win: -11267.63988995474 accuracy: 0.815540777038852\n",
            "epoch: 280 win: -10563.917761843597 accuracy: 0.823941197059853\n",
            "epoch: 300 win: -9937.195516053765 accuracy: 0.8324416220811041\n",
            "epoch: 320 win: -10337.397942505031 accuracy: 0.8260913045652283\n",
            "epoch: 340 win: -9214.173534852369 accuracy: 0.8453922696134807\n",
            "epoch: 360 win: -9649.870757612322 accuracy: 0.8362918145907295\n",
            "epoch: 380 win: -9489.06749923908 accuracy: 0.84059202960148\n",
            "epoch: 400 win: -9892.946368371844 accuracy: 0.8314415720786039\n",
            "epoch: 420 win: -9143.663133959872 accuracy: 0.8509925496274814\n",
            "epoch: 440 win: -8898.281054556483 accuracy: 0.8507925396269813\n",
            "epoch: 460 win: -8547.119187625898 accuracy: 0.8677433871693585\n",
            "epoch: 480 win: -9923.114676155365 accuracy: 0.8433921696084804\n",
            "test accuracy: 0.8437843784378438\n"
          ]
        },
        {
          "output_type": "display_data",
          "data": {
            "text/plain": [
              "<Figure size 432x288 with 1 Axes>"
            ],
            "image/png": "[encoded data removed]"
          },
          "metadata": {
            "needs_background": "light"
          }
        }
      ]
    },
    {
      "cell_type": "markdown",
      "source": [
        "### Generalizing to arbitrary layer size\n",
        "\n",
        "<div>\n",
        "  <img width=\"400\" src=\"https://raw.githubusercontent.com/martingrzzler/colab-notebooks/master/images/two-hidden-layer.png\" />\n",
        "  <img width=\"400\" src=\"https://raw.githubusercontent.com/martingrzzler/colab-notebooks/master/images/three-layer-functions.png\" />\n",
        "</div>\n",
        "\n",
        "<img width=\"700\" src=\"https://raw.githubusercontent.com/martingrzzler/colab-notebooks/master/images/first-layer-derivative.png\" />\n",
        "\n",
        "Consider one weight $W_{dm^{(1)}}^{(1)}$, so connecting the input layer to the first hidden layer. This directly only influences the current $a_{nm^{(1)}}^{(1)}$. In turn this only influences the activation $z_{nm^{(1)}}^{(1)}$. Now however all $a_{nm^{(2)}}^{(2)}$ are directly influenced. Realize that a tiny change in the first layer influences everything that comes after.\n",
        "\n",
        "_The derivatives_\n",
        "\n",
        "<img width=\"700\" src=\"https://raw.githubusercontent.com/martingrzzler/colab-notebooks/master/images/three-derivatives.png\" />\n",
        "\n",
        "_The following pattern emerges_:\n",
        "\n",
        "$𝜟_{W^{(l)}}J=Z^{(l-1)T}𝛅^{(l)}$\n",
        "\n",
        "For any weight matrix $W^{(l)}$ it't gradient is the input into the current layer times some $𝛅$."
      ],
      "metadata": {
        "id": "ZhZTPcBwhQBt"
      }
    },
    {
      "cell_type": "code",
      "source": [
        "def sigmoid(A):\n",
        "  return 1 / (1 + np.exp(-A))\n",
        "\n",
        "def softmax(A):\n",
        "  expA = np.exp(A)\n",
        "  return expA / np.sum(expA, axis=1, keepdims=True)\n",
        "\n",
        "class ANN:\n",
        "  @staticmethod\n",
        "  def forward_hidden(X, W, b):\n",
        "    return sigmoid(X.dot(W) + b)\n",
        "  \n",
        "  @staticmethod\n",
        "  def forward_output(X, W, b):\n",
        "    return softmax(X.dot(W) + b)"
      ],
      "metadata": {
        "id": "yUNtXOroBPWr"
      },
      "execution_count": 29,
      "outputs": []
    },
    {
      "cell_type": "code",
      "source": [
        "D = X[0].shape[0]\n",
        "M = 16\n",
        "K = 10\n",
        "T = to_indicator(Y, N, K)\n",
        "\n",
        "num_layers = 4\n",
        "L = num_layers - 1\n",
        "\n",
        "# initialize weights\n",
        "\n",
        "W = [np.random.randn(M,M) for i in range(L - 2)]\n",
        "W.insert(0,np.random.randn(D,M))\n",
        "W.append(np.random.randn(M,K))\n",
        "\n",
        "b = [np.zeros((M)) for i in range(L - 1)]\n",
        "b.append(np.zeros(K))\n",
        "\n",
        "learning_rate = 0.001\n",
        "costs = []\n",
        "\n",
        "Z = [0 for i in range(L)]\n",
        " \n",
        "for epoch in range(1):\n",
        "  # forward pass\n",
        "  Z[0] = ANN.forward_hidden(X_norm, W[0], b[0])\n",
        "  for i in range(1, L - 1):\n",
        "    Z[i] = ANN.forward_hidden(Z[i - 1], W[i], b[i])\n",
        "  Z[-1] = ANN.forward_output(Z[-2], W[-1], b[-1])\n",
        "  output = Z[-1]\n",
        "\n",
        "  \n",
        "\n",
        "    \n",
        "  \n",
        "\n",
        "#   output, hidden = forward(X_norm, W, b, V, c)\n",
        "\n",
        "#   if epoch % 20 == 0:\n",
        "#     win = cost(T, output)\n",
        "#     P = np.argmax(output, axis=1)\n",
        "#     print(\"epoch:\", epoch, \"win:\", win, \"accuracy:\", accuracy(Y,P))\n",
        "#     costs.append(win)\n",
        "\n",
        "#   gV = derivative_V(hidden,T, output)  \n",
        "#   gc = derivative_c(T,output)  \n",
        "#   gW = derivative_W(X_norm,hidden,T,output,V) \n",
        "#   gb = derivative_b(T, output, V, hidden)  \n",
        "\n",
        "#   V += learning_rate * gV\n",
        "#   c += learning_rate * gc\n",
        "#   W += learning_rate * gW\n",
        "#   b += learning_rate * gb\n",
        "\n",
        "# # test accuracy\n",
        "# P_test_proba, _ = forward(X_test_norm, W, b, V, c)\n",
        "# P_test = np.argmax(P_test_proba, axis=1)\n",
        "# print(\"test accuracy:\", accuracy(Y_test, P_test))\n",
        "\n",
        "# plt.plot(costs)\n",
        "# plt.show()"
      ],
      "metadata": {
        "colab": {
          "base_uri": "https://localhost:8080/"
        },
        "id": "2HZzW2cI_7Hk",
        "outputId": "de138760-2ef5-4226-f323-ecdf960106e6"
      },
      "execution_count": 36,
      "outputs": [
        {
          "output_type": "stream",
          "name": "stdout",
          "text": [
            "(19999, 10)\n"
          ]
        }
      ]
    },
    {
      "cell_type": "code",
      "source": [],
      "metadata": {
        "colab": {
          "base_uri": "https://localhost:8080/"
        },
        "id": "Hz_i9U8uC0bi",
        "outputId": "a8760c57-a8ef-4908-a6bb-b6cf3cd947e4"
      },
      "execution_count": 33,
      "outputs": [
        {
          "output_type": "execute_result",
          "data": {
            "text/plain": [
              "3"
            ]
          },
          "metadata": {},
          "execution_count": 33
        }
      ]
    }
  ]
}