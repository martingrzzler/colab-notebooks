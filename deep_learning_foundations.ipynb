{
  "nbformat": 4,
  "nbformat_minor": 0,
  "metadata": {
    "colab": {
      "provenance": [],
      "collapsed_sections": [],
      "authorship_tag": "ABX9TyP/QiuIG9uUQIxeRSvbYSiJ",
      "include_colab_link": true
    },
    "kernelspec": {
      "name": "python3",
      "display_name": "Python 3"
    },
    "language_info": {
      "name": "python"
    }
  },
  "cells": [
    {
      "cell_type": "markdown",
      "metadata": {
        "id": "view-in-github",
        "colab_type": "text"
      },
      "source": [
        "<a href=\"https://colab.research.google.com/github/martingrzzler/colab-notebooks/blob/master/deep_learning_foundations.ipynb\" target=\"_parent\"><img src=\"https://colab.research.google.com/assets/colab-badge.svg\" alt=\"Open In Colab\"/></a>"
      ]
    },
    {
      "cell_type": "code",
      "execution_count": 400,
      "metadata": {
        "id": "_uq0xc6-6vNC"
      },
      "outputs": [],
      "source": [
        "import numpy as np\n",
        "import pandas as pd\n",
        "import matplotlib.pyplot as plt"
      ]
    },
    {
      "cell_type": "code",
      "source": [
        "data = pd.read_csv('sample_data/mnist_train_small.csv')\n",
        "test_data = pd.read_csv('sample_data/mnist_test.csv')"
      ],
      "metadata": {
        "id": "IojvRPnKyPw_"
      },
      "execution_count": 401,
      "outputs": []
    },
    {
      "cell_type": "code",
      "source": [
        "data_np = data.to_numpy()\n",
        "test_data_np = test_data.to_numpy()\n",
        "data_np.shape, test_data_np.shape"
      ],
      "metadata": {
        "colab": {
          "base_uri": "https://localhost:8080/"
        },
        "id": "p_OuywnNzUYT",
        "outputId": "30541b75-2c38-40c9-ec82-d25b61ab981e"
      },
      "execution_count": 402,
      "outputs": [
        {
          "output_type": "execute_result",
          "data": {
            "text/plain": [
              "((19999, 785), (9999, 785))"
            ]
          },
          "metadata": {},
          "execution_count": 402
        }
      ]
    },
    {
      "cell_type": "code",
      "source": [
        "Y = data_np[:,0]\n",
        "X = data_np[:,1:]\n",
        "Y_test = test_data_np[:,0]\n",
        "X_test = test_data_np[:,1:]\n",
        "N = X.shape[0]"
      ],
      "metadata": {
        "id": "Ekp4gQY80eNe"
      },
      "execution_count": 403,
      "outputs": []
    },
    {
      "cell_type": "code",
      "source": [
        "dims = np.sqrt(X[0].shape[0]).astype(int)"
      ],
      "metadata": {
        "id": "z7rOgZ4g1YEX"
      },
      "execution_count": 404,
      "outputs": []
    },
    {
      "cell_type": "code",
      "source": [
        "fig, axs = plt.subplots(2,5,figsize=(20,7))\n",
        "for ax in axs.flat:\n",
        "  index = np.random.randint(0, N)\n",
        "  img = X[index].reshape((dims,dims))\n",
        "  ax.set_title(f\"pred = {Y[index]}\")\n",
        "  ax.imshow(img, cmap='gray', vmin=0, vmax=255)\n"
      ],
      "metadata": {
        "colab": {
          "base_uri": "https://localhost:8080/",
          "height": 444
        },
        "id": "M3SLk3eL31hL",
        "outputId": "bf1bb957-3c58-46eb-8bbb-1493e56b2a8a"
      },
      "execution_count": 405,
      "outputs": [
        {
          "output_type": "display_data",
          "data": {
            "text/plain": [
              "<Figure size 1440x504 with 10 Axes>"
            ],
            "image/png": "[encoded data removed]"
          },
          "metadata": {
            "needs_background": "light"
          }
        }
      ]
    },
    {
      "cell_type": "code",
      "source": [
        "plt.hist(Y, bins=10)\n",
        "# evenly distributed"
      ],
      "metadata": {
        "colab": {
          "base_uri": "https://localhost:8080/",
          "height": 334
        },
        "id": "-LHA6fvDKTbj",
        "outputId": "33507006-f945-4c43-8c64-31f3a823d9d4"
      },
      "execution_count": 406,
      "outputs": [
        {
          "output_type": "execute_result",
          "data": {
            "text/plain": [
              "(array([1962., 2243., 1989., 2021., 1924., 1761., 2038., 2126., 1912.,\n",
              "        2023.]),\n",
              " array([0. , 0.9, 1.8, 2.7, 3.6, 4.5, 5.4, 6.3, 7.2, 8.1, 9. ]),\n",
              " <a list of 10 Patch objects>)"
            ]
          },
          "metadata": {},
          "execution_count": 406
        },
        {
          "output_type": "display_data",
          "data": {
            "text/plain": [
              "<Figure size 432x288 with 1 Axes>"
            ],
            "image/png": "[encoded data removed]"
          },
          "metadata": {
            "needs_background": "light"
          }
        }
      ]
    },
    {
      "cell_type": "code",
      "source": [
        "X_norm = X / np.max(X)\n",
        "X_test_norm = X_test / np.max(X_test)"
      ],
      "metadata": {
        "id": "YeWHhFH157G2"
      },
      "execution_count": 407,
      "outputs": []
    },
    {
      "cell_type": "markdown",
      "source": [
        "Now that I have labels and training data let's build the Neural Network.\n",
        "\n",
        "### Cost function and Gradient Descent\n",
        "\n",
        "This is a categorical problem so I will use the `Cross Entropy Function`. Why choosing any particular cost function? Minimizing the cost is the same as finding a solution to a maximum likelihood problem. The likelihood tells us how likely it is that the data can be modeled by a particular distribution with certain parameters. Depending on what parameters one uses this liklihood will be bigger or smaller. In practice the likelyhood is the product over all datapoint's PDF function: $\\prod_{i=1}^{N} PDF(x_i; w)$. In the case of a categorical distribution it is $\\prod_{n=1}^{N}\\prod_{k=1}^K p_k^{[t_n=k]}$. This is often transformed to the log likelihood which makes taking the derivative easier and numbers more stable as a product of probabilities becomes very small very fast.\n",
        "\n",
        "$\\sum_{n=1}^{N}\\sum_{k=1}^K [t_n=k] \\log(p_k)$\n",
        "\n",
        "Now imagine the $p_k$ to be the probability the model predicts. If it predicts one for the correct target it outputs zero. If it predicts 0.5 for the correct target the win will be $1 \\log(0.5) = -0.693$. So as the prediciton goes more wrong the win drops as well. Notice in order to turn this into a loss function rather than \"win\" function, simply add a negative sign. In that case 0.6 will mean a higher loss than 0. Without the negative sigm one must go uphill when doing gradient descent.\n",
        "\n",
        "### Architecure\n",
        "\n",
        "<img width=\"300\" src=\"https://raw.githubusercontent.com/martingrzzler/colab-notebooks/master/images/basic-nn.png\" />\n",
        "\n",
        "#### Definitions\n",
        "$D=784$ - number of input features\\\n",
        "$M=16$ - number of hidden layer nodes\\\n",
        "$K=10$ - number of output nodes\\\n",
        "<br/>\n",
        "Forward pass:\\\n",
        "$α=W^Tx+b$\\\n",
        "$z=σ(α)$\\\n",
        "$a=V^Tz+c$\\\n",
        "$y=softmax(a)$\\\n",
        "<br/>\n",
        "$J=\\sum_{n=1}^N\\sum_{k=1}^Kt_{nk}log(y_{nk})$ - the loss function\\\n",
        "<br/>\n",
        "#### Derivatives\n",
        "_Softmax_:\\\n",
        "$\\frac{δJ}{δa_{nk}}=∑^N_{n=1}∑_{k'=1}^K\\frac{δJ}{δy_{nk'}}\\frac{δy_{nk'}}{δa_{nk}}$\\\n",
        "$\\frac{δJ}{δa_{nk}}=y_{nk'}(𝛅-y_{nk})$\\\n",
        "$𝜹=\\binom{k'=k→1}{k'!=k→0}$\\\n",
        "<img width=\"500\" src=\"https://raw.githubusercontent.com/martingrzzler/colab-notebooks/master/images/softmax_derivative.jpg\" /><br/>\n",
        "_Cross Entropy Loss_:\\\n",
        "$\\frac{δJ}{δy_{nk'}}=\\frac{t_{nk'}}{y_{nk'}}$\\\n",
        "Bringing them together:\\\n",
        "$\\sum_{n=1}^N\\sum_{k'=1}^Kt_{nk'}(𝛅_{kk'}-y_nk)$\\\n",
        "<br/>\n",
        "split the sum\n",
        "<br/>\n",
        "1. $\\sum_{k'=1}^Kt_{k'}𝛅_{kk'}=t_k$ because $t_k*1 + 0 = t_k$\\\n",
        "<br/>\n",
        "2. $\\sum_{k'=1}^Kt_{k'}y_{k}=y_k\\sum_{k'=1}^Kt_k'=y_k*1=y_k$\n",
        "<br/>\n",
        "\n",
        "\n",
        "$\\sum_{n=1}^N(t_{nk}-y_{nk})$\\\n",
        "<br/>\n",
        "$𝚫J=X^T(T-Y)$\\\n",
        "\n",
        "_Sigmoid_:\n",
        "\n",
        "<img width=\"250\" src=\"https://raw.githubusercontent.com/martingrzzler/colab-notebooks/master/images/sigmoid_derivative.jpg\" /><br/>\n",
        "\n",
        "so the derivatives for $c,V,b,W$:\\\n",
        "$δJ/δV_{nk}=\\sum_{n=1}^N(t_{nk}-y_{nk})z_{nm}$\\\n",
        "$δJ/δc_{nk}=\\sum_{n=1}^N(t_{nk}-y_{nk})$\\\n",
        "$δJ/δW_{dm}=\\sum_{n=1}^N\\sum_{k=1}^K(t_{nk}-y_{nk})V_{mk}z_{nm}(1-z_{nm})x_{nd}$\\\n",
        "$δJ/δb_{dm}=\\sum_{n=1}^N\\sum_{k=1}^K(t_{nk}-y_{nk})V_{mk}z_{nm}(1-z_{nm})$\n",
        "\n",
        "\n",
        "\n",
        "\n"
      ],
      "metadata": {
        "id": "Axk6Dw-t-e-7"
      }
    },
    {
      "cell_type": "code",
      "source": [
        "def cost(T, Y):\n",
        "  tot = T * np.log(Y)\n",
        "  return tot.sum()\n",
        "\n",
        "def forward(X, W, b, V, c):\n",
        "  Z = 1 / (1 + np.exp(-X.dot(W) - b))\n",
        "  A = Z.dot(V) + c\n",
        "  expA = np.exp(A)\n",
        "  Y = expA / expA.sum(axis=1, keepdims=True)\n",
        "  return Y, Z\n",
        "\n",
        "def derivative_V(Z, T, Y):\n",
        "  return Z.T.dot(T - Y)\n",
        "\n",
        "def derivative_c(T, Y):\n",
        "  return (T - Y).sum(axis=0)\n",
        "\n",
        "def derivative_W(X, Z, T, Y, V):\n",
        "    dZ = (T - Y).dot(V.T) * Z * (1 - Z)\n",
        "    return X.T.dot(dZ)\n",
        "\n",
        "def derivative_b(T, Y, V, Z):\n",
        "    return ((T - Y).dot(V.T) * Z * (1 - Z)).sum(axis=0)\n",
        "\n",
        "def accuracy(Y, P):\n",
        "  return np.mean(Y==P)\n",
        "\n",
        "\n",
        "def to_indicator(Y, N, K):\n",
        "  T = np.zeros((N,K))\n",
        "  for n in range(N):\n",
        "    T[n,Y[n]] = 1\n",
        "  return T\n",
        "\n",
        "def unison_shuffle(A, B, C):\n",
        "  assert(len(A) == len(B) == len(C))\n",
        "  p = np.random.permutation(len(A))\n",
        "  return A[p], B[p], C[p]\n"
      ],
      "metadata": {
        "id": "puvPOBuxgXf1"
      },
      "execution_count": 408,
      "outputs": []
    },
    {
      "cell_type": "code",
      "source": [
        "from pandas.core.resample import g\n",
        "D = X[0].shape[0]\n",
        "M = 16\n",
        "K = 10\n",
        "T = to_indicator(Y, N, K)\n",
        "\n",
        "# initialize weights\n",
        "W = np.random.randn(D, M)\n",
        "b = np.zeros(M)\n",
        "V = np.random.randn(M, K)\n",
        "c = np.zeros(K)\n",
        "\n",
        "learning_rate = 0.001\n",
        "costs = []\n",
        "batch_size = 256\n",
        "\n",
        "for epoch in range(500):\n",
        "  # X_shuffled, T_shuffled, Y_shuffled = unison_shuffle(X_norm,T,Y)\n",
        "  # for batch in range(batch_size):\n",
        "    # X_batch = X_shuffled[batch*batch_size:(batch+1)*batch_size,:]\n",
        "    # T_batch = T_shuffled[batch*batch_size:(batch+1)*batch_size,:]\n",
        "\n",
        "  output, hidden = forward(X_norm, W, b, V, c)\n",
        "  # current_batch_size = len(X_batch)\n",
        "\n",
        "  if epoch % 20 == 0:\n",
        "    win = cost(T, output)\n",
        "    P = np.argmax(output, axis=1)\n",
        "    print(\"epoch:\", epoch, \"win:\", win, \"accuracy:\", accuracy(Y,P))\n",
        "    costs.append(win)\n",
        "\n",
        "  gV = derivative_V(hidden,T, output)  \n",
        "  gc = derivative_c(T,output)  \n",
        "  gW = derivative_W(X_norm,hidden,T,output,V) \n",
        "  gb = derivative_b(T, output, V, hidden)  \n",
        "\n",
        "  V += learning_rate * gV\n",
        "  c += learning_rate * gc\n",
        "  W += learning_rate * gW\n",
        "  b += learning_rate * gb\n",
        "\n",
        "# test accuracy\n",
        "P_test_proba, _ = forward(X_test_norm, W, b, V, c)\n",
        "P_test = np.argmax(P_test_proba, axis=1)\n",
        "print(\"test accuracy:\", accuracy(Y_test, P_test))\n",
        "\n",
        "plt.plot(costs)\n",
        "plt.show()"
      ],
      "metadata": {
        "colab": {
          "base_uri": "https://localhost:8080/",
          "height": 716
        },
        "id": "T9R11O0qdK2F",
        "outputId": "759e8718-3492-47f1-92c9-6aff706e933b"
      },
      "execution_count": 415,
      "outputs": [
        {
          "output_type": "stream",
          "name": "stdout",
          "text": [
            "epoch: 0 win: -76658.09700238549 accuracy: 0.11160558027901395\n",
            "epoch: 20 win: -39043.48310198177 accuracy: 0.2863643182159108\n",
            "epoch: 40 win: -29892.809790507305 accuracy: 0.4705735286764338\n",
            "epoch: 60 win: -23345.329603027236 accuracy: 0.5868293414670733\n",
            "epoch: 80 win: -20526.47608804151 accuracy: 0.6363818190909546\n",
            "epoch: 100 win: -17907.29240589867 accuracy: 0.7174358717935897\n",
            "epoch: 120 win: -16863.823272742815 accuracy: 0.7456872843642182\n",
            "epoch: 140 win: -14865.649693332685 accuracy: 0.776088804440222\n",
            "epoch: 160 win: -14939.61985365251 accuracy: 0.7903395169758488\n",
            "epoch: 180 win: -14780.431670396845 accuracy: 0.816040802040102\n",
            "epoch: 200 win: -11958.569790170339 accuracy: 0.8271413570678534\n",
            "epoch: 220 win: -11451.133616158508 accuracy: 0.8412920646032301\n",
            "epoch: 240 win: -10210.324474731935 accuracy: 0.8659932996649833\n",
            "epoch: 260 win: -10424.640464128519 accuracy: 0.8604430221511076\n",
            "epoch: 280 win: -10482.813151296854 accuracy: 0.8508425421271063\n",
            "epoch: 300 win: -9905.65856761465 accuracy: 0.8646432321616081\n",
            "epoch: 320 win: -8708.839405047644 accuracy: 0.8833441672083604\n",
            "epoch: 340 win: -8824.635048085636 accuracy: 0.8809440472023601\n",
            "epoch: 360 win: -8293.68610138502 accuracy: 0.8872443622181109\n",
            "epoch: 380 win: -7937.04490249213 accuracy: 0.8913445672283614\n",
            "epoch: 400 win: -8538.776889040657 accuracy: 0.8826441322066103\n",
            "epoch: 420 win: -7398.759062645811 accuracy: 0.8994949747487374\n",
            "epoch: 440 win: -8186.006503129395 accuracy: 0.8876443822191109\n",
            "epoch: 460 win: -7141.36099564777 accuracy: 0.9029451472573629\n",
            "epoch: 480 win: -7757.438821173846 accuracy: 0.8910445522276114\n",
            "test accuracy: 0.8805880588058805\n"
          ]
        },
        {
          "output_type": "display_data",
          "data": {
            "text/plain": [
              "<Figure size 432x288 with 1 Axes>"
            ],
            "image/png": "[encoded data removed]"
          },
          "metadata": {
            "needs_background": "light"
          }
        }
      ]
    }
  ]
}