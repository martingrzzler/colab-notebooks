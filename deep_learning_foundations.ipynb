{
  "nbformat": 4,
  "nbformat_minor": 0,
  "metadata": {
    "colab": {
      "provenance": [],
      "collapsed_sections": [],
      "authorship_tag": "ABX9TyPgtjyz6ufmEFXHgWQ5BtrE",
      "include_colab_link": true
    },
    "kernelspec": {
      "name": "python3",
      "display_name": "Python 3"
    },
    "language_info": {
      "name": "python"
    }
  },
  "cells": [
    {
      "cell_type": "markdown",
      "metadata": {
        "id": "view-in-github",
        "colab_type": "text"
      },
      "source": [
        "<a href=\"https://colab.research.google.com/github/martingrzzler/colab-notebooks/blob/master/deep_learning_foundations.ipynb\" target=\"_parent\"><img src=\"https://colab.research.google.com/assets/colab-badge.svg\" alt=\"Open In Colab\"/></a>"
      ]
    },
    {
      "cell_type": "code",
      "execution_count": 1,
      "metadata": {
        "id": "_uq0xc6-6vNC"
      },
      "outputs": [],
      "source": [
        "import numpy as np\n",
        "import pandas as pd\n",
        "import matplotlib.pyplot as plt"
      ]
    },
    {
      "cell_type": "code",
      "source": [
        "data = pd.read_csv('sample_data/mnist_train_small.csv')\n",
        "test_data = pd.read_csv('sample_data/mnist_test.csv')"
      ],
      "metadata": {
        "id": "IojvRPnKyPw_"
      },
      "execution_count": 2,
      "outputs": []
    },
    {
      "cell_type": "code",
      "source": [
        "data_np = data.to_numpy()\n",
        "test_data_np = test_data.to_numpy()\n",
        "data_np.shape, test_data_np.shape"
      ],
      "metadata": {
        "colab": {
          "base_uri": "https://localhost:8080/"
        },
        "id": "p_OuywnNzUYT",
        "outputId": "0206b888-20c8-40d6-8d26-d5794412c60e"
      },
      "execution_count": 3,
      "outputs": [
        {
          "output_type": "execute_result",
          "data": {
            "text/plain": [
              "((19999, 785), (9999, 785))"
            ]
          },
          "metadata": {},
          "execution_count": 3
        }
      ]
    },
    {
      "cell_type": "code",
      "source": [
        "Y = data_np[:,0]\n",
        "X = data_np[:,1:]\n",
        "Y_test = test_data_np[:,0]\n",
        "X_test = test_data_np[:,1:]\n",
        "N = X.shape[0]"
      ],
      "metadata": {
        "id": "Ekp4gQY80eNe"
      },
      "execution_count": 4,
      "outputs": []
    },
    {
      "cell_type": "code",
      "source": [
        "dims = np.sqrt(X[0].shape[0]).astype(int)"
      ],
      "metadata": {
        "id": "z7rOgZ4g1YEX"
      },
      "execution_count": 5,
      "outputs": []
    },
    {
      "cell_type": "code",
      "source": [
        "fig, axs = plt.subplots(2,5,figsize=(20,7))\n",
        "for ax in axs.flat:\n",
        "  index = np.random.randint(0, N)\n",
        "  img = X[index].reshape((dims,dims))\n",
        "  ax.set_title(f\"pred = {Y[index]}\")\n",
        "  ax.imshow(img, cmap='gray', vmin=0, vmax=255)\n"
      ],
      "metadata": {
        "colab": {
          "base_uri": "https://localhost:8080/",
          "height": 444
        },
        "id": "M3SLk3eL31hL",
        "outputId": "4b87a735-8585-4d9e-9fd8-496daea3fe85"
      },
      "execution_count": 6,
      "outputs": [
        {
          "output_type": "display_data",
          "data": {
            "text/plain": [
              "<Figure size 1440x504 with 10 Axes>"
            ],
            "image/png": "[encoded data removed]"
          },
          "metadata": {
            "needs_background": "light"
          }
        }
      ]
    },
    {
      "cell_type": "code",
      "source": [
        "plt.hist(Y, bins=10)\n",
        "# evenly distributed"
      ],
      "metadata": {
        "colab": {
          "base_uri": "https://localhost:8080/",
          "height": 338
        },
        "id": "-LHA6fvDKTbj",
        "outputId": "fd3b1cce-006f-44fe-c009-c54d559c8b6a"
      },
      "execution_count": 7,
      "outputs": [
        {
          "output_type": "execute_result",
          "data": {
            "text/plain": [
              "(array([1962., 2243., 1989., 2021., 1924., 1761., 2038., 2126., 1912.,\n",
              "        2023.]),\n",
              " array([0. , 0.9, 1.8, 2.7, 3.6, 4.5, 5.4, 6.3, 7.2, 8.1, 9. ]),\n",
              " <a list of 10 Patch objects>)"
            ]
          },
          "metadata": {},
          "execution_count": 7
        },
        {
          "output_type": "display_data",
          "data": {
            "text/plain": [
              "<Figure size 432x288 with 1 Axes>"
            ],
            "image/png": "[encoded data removed]"
          },
          "metadata": {
            "needs_background": "light"
          }
        }
      ]
    },
    {
      "cell_type": "code",
      "source": [
        "X_norm = X / np.max(X)\n",
        "X_test_norm = X_test / np.max(X_test)"
      ],
      "metadata": {
        "id": "YeWHhFH157G2"
      },
      "execution_count": 8,
      "outputs": []
    },
    {
      "cell_type": "markdown",
      "source": [
        "Now that I have labels and training data let's build the Neural Network.\n",
        "\n",
        "### Cost function and Gradient Descent\n",
        "\n",
        "This is a categorical problem so I will use the `Cross Entropy Function`. Why choosing any particular cost function? Minimizing the cost is the same as finding a solution to a maximum likelihood problem. The likelihood tells us how likely it is that the data can be modeled by a particular distribution with certain parameters. Depending on what parameters one uses this liklihood will be bigger or smaller. In practice the likelyhood is the product over all datapoint's PDF function: $\\prod_{i=1}^{N} PDF(x_i; w)$. In the case of a categorical distribution it is $\\prod_{n=1}^{N}\\prod_{k=1}^K p_k^{[t_n=k]}$. This is often transformed to the log likelihood which makes taking the derivative easier and numbers more stable as a product of probabilities becomes very small very fast.\n",
        "\n",
        "$\\sum_{n=1}^{N}\\sum_{k=1}^K [t_n=k] \\log(p_k)$\n",
        "\n",
        "Now imagine the $p_k$ to be the probability the model predicts. If it predicts one for the correct target it outputs zero. If it predicts 0.5 for the correct target the win will be $1 \\log(0.5) = -0.693$. So as the prediciton goes more wrong the win drops as well. Notice in order to turn this into a loss function rather than \"win\" function, simply add a negative sign. In that case 0.6 will mean a higher loss than 0. Without the negative sigm one must go uphill when doing gradient descent.\n",
        "\n",
        "### Architecure\n",
        "\n",
        "<img width=\"300\" src=\"https://raw.githubusercontent.com/martingrzzler/colab-notebooks/master/images/basic-nn.png\" />\n",
        "\n",
        "#### Definitions\n",
        "$D=784$ - number of input features\n",
        "\n",
        "$M=16$ - number of hidden layer nodes\n",
        "\n",
        "$K=10$ - number of output nodes\n",
        "\n",
        "Forward pass:\n",
        "\n",
        "$α=W^Tx+b$\n",
        "\n",
        "$z=σ(α)$\n",
        "\n",
        "$a=V^Tz+c$\n",
        "\n",
        "$y=softmax(a)$\n",
        "\n",
        "$J=\\sum_{n=1}^N\\sum_{k=1}^Kt_{nk}log(y_{nk})$ - the loss function\n",
        "#### Derivatives\n",
        "_Softmax_:\n",
        "\n",
        "\n",
        "$\\frac{δJ}{δa_{nk}}=∑^N_{n=1}∑_{k'=1}^K\\frac{δJ}{δy_{nk'}}\\frac{δy_{nk'}}{δa_{nk}}$\n",
        "\n",
        "$\\frac{δJ}{δa_{nk}}=y_{nk'}(𝛅-y_{nk})$\n",
        "\n",
        "$𝜹=\\binom{k'=k→1}{k'!=k→0}$\n",
        "\n",
        "<img width=\"500\" src=\"https://raw.githubusercontent.com/martingrzzler/colab-notebooks/master/images/softmax_derivative.jpg\" />\n",
        "\n",
        "_Cross Entropy Loss_:\n",
        "\n",
        "$\\frac{δJ}{δy_{nk'}}=\\frac{t_{nk'}}{y_{nk'}}$\n",
        "\n",
        "Bringing them together:\n",
        "\n",
        "$\\sum_{n=1}^N\\sum_{k'=1}^Kt_{nk'}(𝛅_{kk'}-y_nk)$\n",
        "\n",
        "split the sum\n",
        "\n",
        "1. $\\sum_{k'=1}^Kt_{k'}𝛅_{kk'}=t_k$ because $t_k*1 + 0 = t_k$\n",
        "\n",
        "\n",
        "2. $\\sum_{k'=1}^Kt_{k'}y_{k}=y_k\\sum_{k'=1}^Kt_k'=y_k*1=y_k$\n",
        "\n",
        "\n",
        "$\\sum_{n=1}^N(t_{nk}-y_{nk})$\n",
        "\n",
        "$𝚫J=X^T(T-Y)$\n",
        "\n",
        "\n",
        "_Sigmoid_:\n",
        "\n",
        "<img width=\"250\" src=\"https://raw.githubusercontent.com/martingrzzler/colab-notebooks/master/images/sigmoid_derivative.jpg\" />\n",
        "\n",
        "so the derivatives for $c,V,b,W$:\n",
        "\n",
        "$δJ/δV_{nk}=\\sum_{n=1}^N(t_{nk}-y_{nk})z_{nm}$\n",
        "\n",
        "$δJ/δc_{nk}=\\sum_{n=1}^N(t_{nk}-y_{nk})$\n",
        "\n",
        "$δJ/δW_{dm}=\\sum_{n=1}^N\\sum_{k=1}^K(t_{nk}-y_{nk})V_{mk}z_{nm}(1-z_{nm})x_{nd}$\n",
        "\n",
        "$δJ/δb_{dm}=\\sum_{n=1}^N\\sum_{k=1}^K(t_{nk}-y_{nk})V_{mk}z_{nm}(1-z_{nm})$\n",
        "\n",
        "\n",
        "\n",
        "\n"
      ],
      "metadata": {
        "id": "Axk6Dw-t-e-7"
      }
    },
    {
      "cell_type": "code",
      "source": [
        "def get_win(T, Y):\n",
        "  tot = T * np.log(Y)\n",
        "  return tot.sum()\n",
        "\n",
        "def forward(X, W, b, V, c):\n",
        "  Z = 1 / (1 + np.exp(-X.dot(W) - b))\n",
        "  A = Z.dot(V) + c\n",
        "  expA = np.exp(A)\n",
        "  Y = expA / expA.sum(axis=1, keepdims=True)\n",
        "  return Y, Z\n",
        "\n",
        "def derivative_V(Z, T, Y):\n",
        "  return Z.T.dot(T - Y)\n",
        "\n",
        "def derivative_c(T, Y):\n",
        "  return (T - Y).sum(axis=0)\n",
        "\n",
        "def derivative_W(X, Z, T, Y, V):\n",
        "    dZ = (T - Y).dot(V.T) * Z * (1 - Z)\n",
        "    return X.T.dot(dZ)\n",
        "\n",
        "def derivative_b(T, Y, V, Z):\n",
        "    return ((T - Y).dot(V.T) * Z * (1 - Z)).sum(axis=0)\n",
        "\n",
        "def accuracy(Y, P):\n",
        "  return np.mean(Y==P)\n",
        "\n",
        "\n",
        "def to_indicator(Y, K):\n",
        "  T = np.zeros((len(Y),K))\n",
        "  for n in range(len(Y)):\n",
        "    T[n,Y[n]] = 1\n",
        "  return T\n"
      ],
      "metadata": {
        "id": "puvPOBuxgXf1"
      },
      "execution_count": 9,
      "outputs": []
    },
    {
      "cell_type": "code",
      "source": [
        "D = X[0].shape[0]\n",
        "M = 16\n",
        "K = 10\n",
        "T = to_indicator(Y, K)\n",
        "\n",
        "# initialize weights\n",
        "W = np.random.randn(D, M)\n",
        "b = np.zeros(M)\n",
        "V = np.random.randn(M, K)\n",
        "c = np.zeros(K)\n",
        "\n",
        "learning_rate = 0.001\n",
        "costs = []\n",
        "\n",
        "for epoch in range(150):\n",
        "  output, hidden = forward(X_norm, W, b, V, c)\n",
        "\n",
        "  if epoch % 20 == 0:\n",
        "    win = get_win(T, output)\n",
        "    P = np.argmax(output, axis=1)\n",
        "    print(\"epoch:\", epoch, \"win:\", win, \"accuracy:\", accuracy(Y,P))\n",
        "    costs.append(win)\n",
        "\n",
        "  gV = derivative_V(hidden,T, output)  \n",
        "  gc = derivative_c(T,output)  \n",
        "  gW = derivative_W(X_norm,hidden,T,output,V) \n",
        "  gb = derivative_b(T, output, V, hidden)  \n",
        "\n",
        "  V += learning_rate * gV\n",
        "  c += learning_rate * gc\n",
        "  W += learning_rate * gW\n",
        "  b += learning_rate * gb\n",
        "\n",
        "# test accuracy\n",
        "P_test_proba, _ = forward(X_test_norm, W, b, V, c)\n",
        "P_test = np.argmax(P_test_proba, axis=1)\n",
        "print(\"test accuracy:\", accuracy(Y_test, P_test))\n",
        "\n",
        "plt.plot(costs)\n",
        "plt.show()"
      ],
      "metadata": {
        "colab": {
          "base_uri": "https://localhost:8080/",
          "height": 433
        },
        "id": "T9R11O0qdK2F",
        "outputId": "dad5f138-4427-4444-c774-c73db5057209"
      },
      "execution_count": 10,
      "outputs": [
        {
          "output_type": "stream",
          "name": "stdout",
          "text": [
            "epoch: 0 win: -115747.05907377148 accuracy: 0.09580479023951198\n",
            "epoch: 20 win: -41608.79465961439 accuracy: 0.20611030551527576\n",
            "epoch: 40 win: -30663.132178566644 accuracy: 0.46782339116955846\n",
            "epoch: 60 win: -27985.997830196266 accuracy: 0.5305765288264414\n",
            "epoch: 80 win: -27493.029659638516 accuracy: 0.5493774688734436\n",
            "epoch: 100 win: -24974.28463368691 accuracy: 0.5931796589829491\n",
            "epoch: 120 win: -24489.20004426909 accuracy: 0.6125306265313266\n",
            "epoch: 140 win: -24662.817809414773 accuracy: 0.608580429021451\n",
            "test accuracy: 0.6401640164016401\n"
          ]
        },
        {
          "output_type": "display_data",
          "data": {
            "text/plain": [
              "<Figure size 432x288 with 1 Axes>"
            ],
            "image/png": "[encoded data removed]"
          },
          "metadata": {
            "needs_background": "light"
          }
        }
      ]
    },
    {
      "cell_type": "markdown",
      "source": [
        "### Generalizing to arbitrary layer size\n",
        "\n",
        "<div>\n",
        "  <img width=\"400\" src=\"https://raw.githubusercontent.com/martingrzzler/colab-notebooks/master/images/two-hidden-layer.png\" />\n",
        "  <img width=\"400\" src=\"https://raw.githubusercontent.com/martingrzzler/colab-notebooks/master/images/three-layer-functions.png\" />\n",
        "</div>\n",
        "\n",
        "<img width=\"700\" src=\"https://raw.githubusercontent.com/martingrzzler/colab-notebooks/master/images/first-layer-derivative.png\" />\n",
        "\n",
        "Consider one weight $W_{dm^{(1)}}^{(1)}$, so connecting the input layer to the first hidden layer. This directly only influences the current $a_{nm^{(1)}}^{(1)}$. In turn this only influences the activation $z_{nm^{(1)}}^{(1)}$. Now however all $a_{nm^{(2)}}^{(2)}$ are directly influenced. Realize that a tiny change in the first layer influences everything that comes after.\n",
        "\n",
        "_The derivatives_\n",
        "\n",
        "<img width=\"700\" src=\"https://raw.githubusercontent.com/martingrzzler/colab-notebooks/master/images/three-derivatives.png\" />\n",
        "\n",
        "_The following pattern emerges_:\n",
        "\n",
        "$𝜟_{W^{(l)}}J=Z^{(l-1)T}𝛅^{(l)}$\n",
        "\n",
        "For any weight matrix $W^{(l)}$ it't gradient is the input into the current layer times some $𝛅$.\n",
        "\n",
        "_Equations to implement_:\n",
        "\n",
        "<img width=\"500\" src=\"https://raw.githubusercontent.com/martingrzzler/colab-notebooks/master/images/grad-update.png\" />\n",
        "\n",
        "<img width=\"500\" src=\"https://raw.githubusercontent.com/martingrzzler/colab-notebooks/master/images/delta-update.png\" />"
      ],
      "metadata": {
        "id": "ZhZTPcBwhQBt"
      }
    },
    {
      "cell_type": "code",
      "source": [
        "def sigmoid(A):\n",
        "  return 1.0 / (1.0 + np.exp(-A))\n",
        "\n",
        "def softmax(A):\n",
        "  expA = np.exp(A)\n",
        "  return expA / np.sum(expA, axis=1, keepdims=True)\n",
        "\n",
        "def derivative_sigmoid(X):\n",
        "  sig = sigmoid(X)\n",
        "  return (1.0 - sig) * sig\n",
        "\n",
        "def get_cost(T, Y):\n",
        "  tot = T * np.log(Y)\n",
        "  return -tot.mean()\n",
        "\n",
        "def forward_hidden(X, W, b):\n",
        "    return sigmoid(X.dot(W) + b)\n",
        "  \n",
        "def forward_output(X, W, b):\n",
        "    return softmax(X.dot(W) + b)\n"
      ],
      "metadata": {
        "id": "yUNtXOroBPWr"
      },
      "execution_count": 11,
      "outputs": []
    },
    {
      "cell_type": "code",
      "source": [
        "D = X[0].shape[0]\n",
        "M = 16\n",
        "K = 10\n",
        "\n",
        "num_layers = 3\n",
        "L = num_layers - 1\n",
        "\n",
        "# initialize weights\n",
        "\n",
        "W = [np.random.randn(M,M) for i in range(L - 2)]\n",
        "W.insert(0,np.random.randn(D,M))\n",
        "W.append(np.random.randn(M,K))\n",
        "\n",
        "b = [np.zeros((M)) for i in range(L - 1)]\n",
        "b.append(np.zeros(K))\n",
        "\n",
        "T = to_indicator(Y, K)\n",
        "\n",
        "learning_rate = 0.0001\n",
        "costs = []\n",
        "\n",
        "Z = [0 for i in range(L)]\n",
        " \n",
        "# Note - for a 4 layer network we have 3 W's, 3 b's and 3 Z's\n",
        "\n",
        "for epoch in range(100):\n",
        "  # forward pass\n",
        "  Z[0] = forward_hidden(X_norm, W[0], b[0])\n",
        "  for i in range(1, L - 1):\n",
        "    Z[i] = forward_hidden(Z[i - 1], W[i], b[i])\n",
        "  Z[-1] = forward_output(Z[-2], W[-1], b[-1])\n",
        "  output = Z[-1]\n",
        "\n",
        "  if epoch % 10 == 0:\n",
        "    cost = get_cost(T, output)\n",
        "    P = np.argmax(output, axis=1)\n",
        "    print(\"epoch:\", epoch, \"cost:\", cost, \"accuracy:\", accuracy(Y,P))\n",
        "    costs.append(cost)\n",
        "\n",
        "  # when doing gradient descent it's output - T\n",
        "  delta = output - T\n",
        "  gradW = Z[-2].T.dot(delta)\n",
        "  gradb = np.sum(delta, axis=0)\n",
        "\n",
        "\n",
        "  W[-1] -= learning_rate * gradW\n",
        "  b[-1] -= learning_rate * gradb\n",
        "\n",
        "  for j in reversed(range(1, L - 1)):\n",
        "    delta = delta.dot(W[j+1].T) * derivative_sigmoid(Z[j])\n",
        "    gradW = Z[j-1].T.dot(delta)\n",
        "    gradb = np.sum(delta, axis=0)\n",
        "    W[j] -= learning_rate * gradW\n",
        "    b[j] -= learning_rate * gradb\n",
        "  \n",
        "  delta = delta.dot(W[1].T) * derivative_sigmoid(Z[0])\n",
        "  gradW = X_norm.T.dot(delta)\n",
        "  gradb = np.sum(delta, axis=0)\n",
        "  W[0] -= learning_rate * gradW\n",
        "  b[0] -= learning_rate * gradb\n",
        "\n",
        "plt.plot(costs)\n",
        "plt.show()"
      ],
      "metadata": {
        "colab": {
          "base_uri": "https://localhost:8080/",
          "height": 448
        },
        "id": "2HZzW2cI_7Hk",
        "outputId": "e708944c-fac5-4b45-9143-67c476f4d799"
      },
      "execution_count": 12,
      "outputs": [
        {
          "output_type": "stream",
          "name": "stdout",
          "text": [
            "epoch: 0 cost: 0.40243192449941667 accuracy: 0.09425471273563678\n",
            "epoch: 10 cost: 0.14630711133219784 accuracy: 0.52067603380169\n",
            "epoch: 20 cost: 0.10999041288764592 accuracy: 0.6425821291064553\n",
            "epoch: 30 cost: 0.09504997481122429 accuracy: 0.6966848342417121\n",
            "epoch: 40 cost: 0.08678297273894085 accuracy: 0.7282864143207161\n",
            "epoch: 50 cost: 0.08170780902045068 accuracy: 0.7488874443722187\n",
            "epoch: 60 cost: 0.0780853893383041 accuracy: 0.7626381319065954\n",
            "epoch: 70 cost: 0.07513766248781178 accuracy: 0.7732386619330966\n",
            "epoch: 80 cost: 0.07268693295072143 accuracy: 0.7788889444472223\n",
            "epoch: 90 cost: 0.0705049790992115 accuracy: 0.7860393019650983\n"
          ]
        },
        {
          "output_type": "display_data",
          "data": {
            "text/plain": [
              "<Figure size 432x288 with 1 Axes>"
            ],
            "image/png": "[encoded data removed]"
          },
          "metadata": {
            "needs_background": "light"
          }
        }
      ]
    },
    {
      "cell_type": "code",
      "source": [
        "from typing import List\n",
        "\n",
        "class Math:\n",
        "  @staticmethod\n",
        "  def softmax(A):\n",
        "    expA = np.exp(A)\n",
        "    return expA / np.sum(expA, axis=1, keepdims=True)\n",
        "\n",
        "  @staticmethod\n",
        "  def accuracy(Y, P):\n",
        "    return np.mean(Y==P)\n",
        "\n",
        "class Sigmoid:\n",
        "  def __call__(self, A):\n",
        "    return 1.0 / (1.0 + np.exp(-A))\n",
        "  \n",
        "  def derivative(self, X):\n",
        "    sig = sigmoid(X)\n",
        "    return (1.0 - sig) * sig\n",
        "\n",
        "class ReLU:\n",
        "  def __call__(self, A):\n",
        "    copy = np.copy(A)\n",
        "    copy[A < 0] = 0\n",
        "    return copy\n",
        "\n",
        "  def derivative(self, X):\n",
        "    return (X > 0).astype(np.float64)\n",
        "\n",
        "\n",
        " \n",
        "\n",
        "class ANN:\n",
        "  def __init__(self, layers: List[int], learning_rate=0.0001, epochs=300, batch_size=256, verbose=True, activation=Sigmoid):\n",
        "    # common init for ReLU\n",
        "    self.W = [np.random.randn(layers[i],layers[i+1]) * np.sqrt(2/layers[i]) for i in range(len(layers) - 1)]\n",
        "    self.b = [np.zeros(layers[i]) for i in range(1,len(layers))]\n",
        "    self.activation = activation()\n",
        "    self.layers = layers\n",
        "    self.costs = []\n",
        "    self.epochs = epochs\n",
        "    self.lr = learning_rate\n",
        "    self.batch_size = batch_size\n",
        "    self.verbose = verbose\n",
        "\n",
        "  def fit(self, X, Y):\n",
        "    # drops the last batch\n",
        "    batches = X.shape[0] // self.batch_size\n",
        "\n",
        "    for e in range(self.epochs):\n",
        "      X_shuffle, Y_shuffle = self.__unison_shuffle(X,Y)\n",
        "\n",
        "      for b in range(batches):\n",
        "        X_batch = X_shuffle[b*self.batch_size:(b*self.batch_size + self.batch_size),:]\n",
        "        Y_batch = Y_shuffle[b*self.batch_size:(b*self.batch_size + self.batch_size)]\n",
        "        T = self.__Y_to_indicator(Y_batch)\n",
        "      \n",
        "        Z = self.__forward(X_batch)\n",
        "        cost = self.__get_cost(T, Z[-1])\n",
        "        self.costs.append(cost)\n",
        "        \n",
        "        if self.verbose and b == 0:\n",
        "          self.__log(Y_batch, e, cost, Z[-1])\n",
        "\n",
        "        self.__backprop(T, Z, X_batch)\n",
        "    \n",
        "    return self.costs\n",
        "\n",
        "  def predict(self, X):\n",
        "    Z = self.__forward(X)\n",
        "    return np.argmax(Z[-1], axis=1)\n",
        "\n",
        "  def __log(self, Y, e, cost, P_proba):\n",
        "        print(f\"Epoch: {e}, Cost: {cost:.3f}, Accuracy: {Math.accuracy(Y, np.argmax(P_proba, axis=1)):.2f}\")\n",
        "\n",
        "  def __backprop(self, T, Z, X):\n",
        "    delta = Z[-1] - T \n",
        "    gradW = Z[-2].T.dot(delta) / self.batch_size\n",
        "    gradb = np.sum(delta, axis=0) / self.batch_size\n",
        "\n",
        "    self.W[-1] -= self.lr * gradW\n",
        "    self.b[-1] -= self.lr * gradb\n",
        "\n",
        "    for j in reversed(range(0, len(self.layers) - 2)):\n",
        "      delta = delta.dot(self.W[j+1].T) * self.activation.derivative(Z[j])\n",
        "      gradW =  Z[j-1].T.dot(delta) if j > 0 else X.T.dot(delta)\n",
        "      gradb = np.sum(delta, axis=0)\n",
        "      self.W[j] -= self.lr * gradW / self.batch_size\n",
        "      self.b[j] -= self.lr * gradb / self.batch_size\n",
        "  \n",
        "\n",
        "  def __forward(self, X):\n",
        "    Z = [0 for i in range(len(self.layers)-1)]\n",
        "    Z[0] = self.activation(X.dot(self.W[0]) + self.b[0])\n",
        "    for i in range(1,len(Z) - 1):\n",
        "      Z[i] = self.activation(Z[i-1].dot(self.W[i]) + self.b[i])\n",
        "    Z[-1] = Math.softmax(Z[-2].dot(self.W[-1]) + self.b[-1])\n",
        "\n",
        "    return Z\n",
        "\n",
        "  def __Y_to_indicator(self, Y):\n",
        "    K = self.layers[-1]\n",
        "    T = np.zeros((len(Y),K))\n",
        "    for n in range(len(Y)):\n",
        "      T[n,Y[n]] = 1\n",
        "    return T\n",
        "\n",
        "  \n",
        "  def __get_cost(self, T, Y_proba):\n",
        "    tot = T * np.log(Y_proba)\n",
        "    return -tot.mean()\n",
        "\n",
        "  \n",
        "  def __unison_shuffle(self, A, B):\n",
        "    assert(len(A) == len(B))\n",
        "    p = np.random.permutation(len(A))\n",
        "    return A[p], B[p]\n",
        "  "
      ],
      "metadata": {
        "id": "Hz_i9U8uC0bi"
      },
      "execution_count": 13,
      "outputs": []
    },
    {
      "cell_type": "code",
      "source": [
        "data = pd.read_csv('sample_data/mnist_train_small.csv')\n",
        "test_data = pd.read_csv('sample_data/mnist_test.csv')\n",
        "data_np = data.to_numpy()\n",
        "test_data_np = test_data.to_numpy()\n",
        "Y = data_np[:,0]\n",
        "X = data_np[:,1:]\n",
        "Y_test = test_data_np[:,0]\n",
        "X_test = test_data_np[:,1:]\n",
        "X_norm = X / np.max(X)\n",
        "X_test_norm = X_test / np.max(X_test)"
      ],
      "metadata": {
        "id": "8T8mv1bSw8Gk"
      },
      "execution_count": 14,
      "outputs": []
    },
    {
      "cell_type": "code",
      "source": [
        "ann = ANN(layers=[X[0].shape[0],20,16,10], epochs=30, batch_size=512, learning_rate=0.01, activation=ReLU)\n",
        "costs = ann.fit(X=X_norm, Y=Y)\n",
        "print(f\"Final test Accuracy: {Math.accuracy(Y_test, ann.predict(X_test_norm)):.2f}\")\n",
        "print()\n",
        "plt.plot(costs)\n",
        "plt.show()"
      ],
      "metadata": {
        "id": "ETLnCE2A2q4p",
        "outputId": "bf322bee-7a16-4219-e34c-d3a522f72b15",
        "colab": {
          "base_uri": "https://localhost:8080/",
          "height": 850
        }
      },
      "execution_count": 15,
      "outputs": [
        {
          "output_type": "stream",
          "name": "stdout",
          "text": [
            "Epoch: 0, Cost: 0.235, Accuracy: 0.09\n",
            "Epoch: 1, Cost: 0.222, Accuracy: 0.16\n",
            "Epoch: 2, Cost: 0.211, Accuracy: 0.23\n",
            "Epoch: 3, Cost: 0.195, Accuracy: 0.31\n",
            "Epoch: 4, Cost: 0.181, Accuracy: 0.36\n",
            "Epoch: 5, Cost: 0.161, Accuracy: 0.53\n",
            "Epoch: 6, Cost: 0.137, Accuracy: 0.68\n",
            "Epoch: 7, Cost: 0.129, Accuracy: 0.68\n",
            "Epoch: 8, Cost: 0.109, Accuracy: 0.74\n",
            "Epoch: 9, Cost: 0.103, Accuracy: 0.75\n",
            "Epoch: 10, Cost: 0.096, Accuracy: 0.76\n",
            "Epoch: 11, Cost: 0.087, Accuracy: 0.77\n",
            "Epoch: 12, Cost: 0.080, Accuracy: 0.80\n",
            "Epoch: 13, Cost: 0.073, Accuracy: 0.81\n",
            "Epoch: 14, Cost: 0.070, Accuracy: 0.81\n",
            "Epoch: 15, Cost: 0.068, Accuracy: 0.82\n",
            "Epoch: 16, Cost: 0.065, Accuracy: 0.84\n",
            "Epoch: 17, Cost: 0.059, Accuracy: 0.85\n",
            "Epoch: 18, Cost: 0.057, Accuracy: 0.86\n",
            "Epoch: 19, Cost: 0.057, Accuracy: 0.85\n",
            "Epoch: 20, Cost: 0.056, Accuracy: 0.84\n",
            "Epoch: 21, Cost: 0.052, Accuracy: 0.86\n",
            "Epoch: 22, Cost: 0.046, Accuracy: 0.88\n",
            "Epoch: 23, Cost: 0.051, Accuracy: 0.88\n",
            "Epoch: 24, Cost: 0.045, Accuracy: 0.88\n",
            "Epoch: 25, Cost: 0.050, Accuracy: 0.86\n",
            "Epoch: 26, Cost: 0.054, Accuracy: 0.86\n",
            "Epoch: 27, Cost: 0.049, Accuracy: 0.86\n",
            "Epoch: 28, Cost: 0.044, Accuracy: 0.89\n",
            "Epoch: 29, Cost: 0.043, Accuracy: 0.89\n",
            "Final test Accuracy: 0.89\n",
            "\n"
          ]
        },
        {
          "output_type": "display_data",
          "data": {
            "text/plain": [
              "<Figure size 432x288 with 1 Axes>"
            ],
            "image/png": "[encoded data removed]"
          },
          "metadata": {
            "needs_background": "light"
          }
        }
      ]
    },
    {
      "cell_type": "code",
      "source": [
        "P = ann.predict(X_test_norm)\n",
        "P_false = np.where(Y_test!=P)[0]\n",
        "fig, axs = plt.subplots(2,5,figsize=(20,7))\n",
        "for ax in axs.flat:\n",
        "  index = np.random.choice(P_false)\n",
        "  img = X_test[index].reshape((dims,dims))\n",
        "  ax.set_title(f\"pred = {P[index]} actual={Y_test[index]}\")\n",
        "  ax.imshow(img, cmap='gray', vmin=0, vmax=255)"
      ],
      "metadata": {
        "id": "XfX-f62Cgr2n",
        "outputId": "efbbe911-3244-4a5d-cef2-69924ff73675",
        "colab": {
          "base_uri": "https://localhost:8080/",
          "height": 444
        }
      },
      "execution_count": 36,
      "outputs": [
        {
          "output_type": "display_data",
          "data": {
            "text/plain": [
              "<Figure size 1440x504 with 10 Axes>"
            ],
            "image/png": "[encoded data removed]"
          },
          "metadata": {
            "needs_background": "light"
          }
        }
      ]
    },
    {
      "cell_type": "code",
      "source": [],
      "metadata": {
        "id": "96NEKONOhjs5",
        "outputId": "e26d653e-d1fa-4a49-e8f5-a62f6cc9b952",
        "colab": {
          "base_uri": "https://localhost:8080/"
        }
      },
      "execution_count": 18,
      "outputs": [
        {
          "output_type": "execute_result",
          "data": {
            "text/plain": [
              "((1118,), (9999,))"
            ]
          },
          "metadata": {},
          "execution_count": 18
        }
      ]
    }
  ]
}